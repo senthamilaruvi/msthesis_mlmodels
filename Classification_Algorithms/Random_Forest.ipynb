{
 "cells": [
  {
   "cell_type": "code",
   "execution_count": 31,
   "metadata": {
    "collapsed": true
   },
   "outputs": [],
   "source": [
    "%matplotlib inline"
   ]
  },
  {
   "cell_type": "code",
   "execution_count": 32,
   "metadata": {
    "collapsed": true
   },
   "outputs": [],
   "source": [
    "import numpy as np\n",
    "import pandas as pd\n",
    "import os\n",
    "from sklearn.ensemble import RandomForestClassifier\n",
    "from sklearn.model_selection import StratifiedKFold\n",
    "from sklearn.metrics import f1_score\n",
    "from sklearn.metrics import recall_score\n",
    "from sklearn.metrics import precision_score\n",
    "from sklearn.metrics import accuracy_score\n",
    "from sklearn.metrics import confusion_matrix\n",
    "import itertools\n",
    "import matplotlib.pyplot as plt"
   ]
  },
  {
   "cell_type": "code",
   "execution_count": 33,
   "metadata": {
    "collapsed": false
   },
   "outputs": [
    {
     "data": {
      "text/plain": [
       "['Name',\n",
       " 'Number',\n",
       " 'X',\n",
       " 'Y',\n",
       " 'Theta',\n",
       " 'Phi',\n",
       " 'Porosity_Fraction',\n",
       " 'Max_Pore_Diameter',\n",
       " 'Mean_Pore_Diameter',\n",
       " 'Median_Pore_Diameter',\n",
       " 'Yield',\n",
       " 'Modulus']"
      ]
     },
     "execution_count": 33,
     "metadata": {},
     "output_type": "execute_result"
    }
   ],
   "source": [
    "# Input and output columns in Dataframe\n",
    "\n",
    "os.chdir('E:\\Academics\\Research\\Data\\Experimental data\\Compression_test\\Results\\As_Built')\n",
    "Master_Data = pd.read_csv('Data_As_Built_New.csv').dropna(axis = 0,subset = ['X','Y','Theta','Phi','Modulus'],how = 'all')\n",
    "list(Master_Data)"
   ]
  },
  {
   "cell_type": "code",
   "execution_count": 34,
   "metadata": {
    "collapsed": true
   },
   "outputs": [],
   "source": [
    "# Input and output columns in Dataframe\n",
    "Input = ['X','Y','Theta','Phi']\n",
    "Properties = ['Yield','Modulus']\n",
    "Output = Properties[1]"
   ]
  },
  {
   "cell_type": "code",
   "execution_count": 35,
   "metadata": {
    "collapsed": true
   },
   "outputs": [],
   "source": [
    "# Normalization of data\n",
    "full = []\n",
    "full.extend(Input)\n",
    "full.extend(Properties)\n",
    "Parsed_Data = Master_Data[full]\n",
    "# Parsed_Data = Parsed_Data[Parsed_Data['Phi']==45]"
   ]
  },
  {
   "cell_type": "code",
   "execution_count": 36,
   "metadata": {
    "collapsed": false
   },
   "outputs": [],
   "source": [
    "Maximum = Parsed_Data[Output].max()\n",
    "Minimum = Parsed_Data[Output].min()"
   ]
  },
  {
   "cell_type": "code",
   "execution_count": 37,
   "metadata": {
    "collapsed": true
   },
   "outputs": [],
   "source": [
    "b = float((Maximum - Minimum)/4)"
   ]
  },
  {
   "cell_type": "code",
   "execution_count": 38,
   "metadata": {
    "collapsed": true
   },
   "outputs": [],
   "source": [
    "classes = []\n",
    "\n",
    "for i in Parsed_Data[Output]:\n",
    "    if i < Minimum+b:\n",
    "        classes.append(0)\n",
    "    elif Minimum+b <= i < Minimum+2*b:\n",
    "        classes.append(1)\n",
    "    elif Minimum+2*b <= i < Minimum+3*b:\n",
    "        classes.append(2)\n",
    "    elif i > Minimum+3*b:\n",
    "        classes.append(3)"
   ]
  },
  {
   "cell_type": "code",
   "execution_count": 39,
   "metadata": {
    "collapsed": true
   },
   "outputs": [],
   "source": [
    "# m = Parsed_Data[Output].mean()\n",
    "# s = Parsed_Data[Output].std()"
   ]
  },
  {
   "cell_type": "code",
   "execution_count": 40,
   "metadata": {
    "collapsed": false
   },
   "outputs": [],
   "source": [
    "#Defining class of output\n",
    "\n",
    "# classes = []\n",
    "\n",
    "# for i in Parsed_Data[Output]:\n",
    "#     if i <m-s:\n",
    "#         classes.append(0)\n",
    "#     elif m-s <= i < m:\n",
    "#         classes.append(1)\n",
    "#     elif m < i <= m+s:\n",
    "#         classes.append(2)\n",
    "#     elif i > m+s:\n",
    "#         classes.append(3)"
   ]
  },
  {
   "cell_type": "code",
   "execution_count": 41,
   "metadata": {
    "collapsed": true
   },
   "outputs": [],
   "source": [
    "new_input = ['X','Y','Theta','Phi']"
   ]
  },
  {
   "cell_type": "code",
   "execution_count": 42,
   "metadata": {
    "collapsed": true
   },
   "outputs": [],
   "source": [
    "Parsed_Data = Parsed_Data[new_input]"
   ]
  },
  {
   "cell_type": "code",
   "execution_count": 43,
   "metadata": {
    "collapsed": true
   },
   "outputs": [],
   "source": [
    "Normalized_Data = (Parsed_Data-Parsed_Data.min())/(Parsed_Data.max()-Parsed_Data.min())"
   ]
  },
  {
   "cell_type": "code",
   "execution_count": 44,
   "metadata": {
    "collapsed": true
   },
   "outputs": [],
   "source": [
    "X = Normalized_Data.values\n",
    "y = np.array(classes)"
   ]
  },
  {
   "cell_type": "code",
   "execution_count": 45,
   "metadata": {
    "collapsed": false
   },
   "outputs": [],
   "source": [
    "skf = StratifiedKFold(n_splits=5)\n",
    "f1score = []\n",
    "recallscore = []\n",
    "preciscore = []\n",
    "accuracy = []\n",
    "y_t=[]\n",
    "\n",
    "f1scoret = []\n",
    "recallscoret = []\n",
    "preciscoret = []\n",
    "accuracyt = []\n",
    "y_p = []\n",
    "\n",
    "for train, test in skf.split(X, y):\n",
    "        X_train = X[train]\n",
    "        y_train = y[train]\n",
    "        X_test = X[test]\n",
    "        y_test = y[test]\n",
    "        classifier = RandomForestClassifier(max_depth=5, random_state=0)\n",
    "        classifier.fit(X_train, y_train)\n",
    "        \n",
    "                       \n",
    "        y_train_pred = classifier.predict(X_train)\n",
    "        score_f1t = f1_score(y_train,y_train_pred, average = 'weighted')\n",
    "        rscoret = recall_score(y_train,y_train_pred, average = 'weighted')\n",
    "        pscoret = precision_score(y_train, y_train_pred, average='weighted')\n",
    "        ascoret = accuracy_score(y_train, y_train_pred)\n",
    "        f1scoret.append(score_f1t)\n",
    "        recallscoret.append(rscoret)\n",
    "        preciscoret.append(pscoret)\n",
    "        accuracyt.append(ascoret)\n",
    "        \n",
    "        \n",
    "        y_pred = classifier.predict(X_test)\n",
    "        score_f1 = f1_score(y_test,y_pred, average = 'weighted')\n",
    "        rscore = recall_score(y_test,y_pred, average = 'weighted')\n",
    "        pscore = precision_score(y_test, y_pred, average='weighted')\n",
    "        ascore = accuracy_score(y_test, y_pred)\n",
    "        f1score.append(score_f1)\n",
    "        recallscore.append(rscore)\n",
    "        preciscore.append(pscore)\n",
    "        accuracy.append(ascore)\n",
    "        \n",
    "        y_t = np.concatenate((y_t,y_test))\n",
    "        y_p = np.concatenate((y_p,y_pred))"
   ]
  },
  {
   "cell_type": "code",
   "execution_count": 46,
   "metadata": {
    "collapsed": false
   },
   "outputs": [
    {
     "data": {
      "text/plain": [
       "[0.83506959905344402, 0.45809523809523817]"
      ]
     },
     "execution_count": 46,
     "metadata": {},
     "output_type": "execute_result"
    }
   ],
   "source": [
    "[np.mean(recallscoret), np.mean(recallscore)]"
   ]
  },
  {
   "cell_type": "code",
   "execution_count": 47,
   "metadata": {
    "collapsed": false
   },
   "outputs": [
    {
     "data": {
      "text/plain": [
       "[0.85499371530236323, 0.37852380952380954]"
      ]
     },
     "execution_count": 47,
     "metadata": {},
     "output_type": "execute_result"
    }
   ],
   "source": [
    "[np.average(preciscoret),np.average(preciscore)]"
   ]
  },
  {
   "cell_type": "code",
   "execution_count": 48,
   "metadata": {
    "collapsed": false
   },
   "outputs": [
    {
     "data": {
      "text/plain": [
       "[0.82391663361493772, 0.38280412708984135]"
      ]
     },
     "execution_count": 48,
     "metadata": {},
     "output_type": "execute_result"
    }
   ],
   "source": [
    "[np.mean(f1scoret),np.mean(f1score)]"
   ]
  },
  {
   "cell_type": "code",
   "execution_count": 49,
   "metadata": {
    "collapsed": false
   },
   "outputs": [
    {
     "data": {
      "text/plain": [
       "[0.83506959905344402, 0.45809523809523817]"
      ]
     },
     "execution_count": 49,
     "metadata": {},
     "output_type": "execute_result"
    }
   ],
   "source": [
    "[np.average(accuracyt), np.mean(accuracy)]"
   ]
  },
  {
   "cell_type": "code",
   "execution_count": 50,
   "metadata": {
    "collapsed": true
   },
   "outputs": [],
   "source": [
    "cm =confusion_matrix(y_t,y_p)"
   ]
  },
  {
   "cell_type": "code",
   "execution_count": 51,
   "metadata": {
    "collapsed": true
   },
   "outputs": [],
   "source": [
    "class_names = ['class1','class2','class3','class4']"
   ]
  },
  {
   "cell_type": "code",
   "execution_count": 52,
   "metadata": {
    "collapsed": true
   },
   "outputs": [],
   "source": [
    "def plot_confusion_matrix(cm, classes,\n",
    "                          normalize=False,\n",
    "                          title='Confusion matrix',\n",
    "                          cmap=plt.cm.Blues):\n",
    "    \"\"\"\n",
    "    This function prints and plots the confusion matrix.\n",
    "    Normalization can be applied by setting `normalize=True`.\n",
    "    \"\"\"\n",
    "    if normalize:\n",
    "        cm = cm.astype('float') / cm.sum(axis=1)[:, np.newaxis]\n",
    "        print(\"Normalized confusion matrix\")\n",
    "    else:\n",
    "        print('Confusion matrix, without normalization')\n",
    "\n",
    "    print(cm)\n",
    "\n",
    "    plt.imshow(cm, interpolation='nearest', cmap=cmap)\n",
    "    plt.title(title)\n",
    "    plt.colorbar()\n",
    "    tick_marks = np.arange(len(classes))\n",
    "    plt.xticks(tick_marks, classes, rotation=45)\n",
    "    plt.yticks(tick_marks, classes)\n",
    "\n",
    "    fmt = '.2f' if normalize else 'd'\n",
    "    thresh = cm.max() / 2.\n",
    "    for i, j in itertools.product(range(cm.shape[0]), range(cm.shape[1])):\n",
    "        plt.text(j, i, format(cm[i, j], fmt),\n",
    "                 horizontalalignment=\"center\",\n",
    "                 color=\"white\" if cm[i, j] > thresh else \"black\")\n",
    "\n",
    "    plt.tight_layout()\n",
    "    plt.ylabel('True label')\n",
    "    plt.xlabel('Predicted label')"
   ]
  },
  {
   "cell_type": "code",
   "execution_count": 53,
   "metadata": {
    "collapsed": false
   },
   "outputs": [
    {
     "name": "stdout",
     "output_type": "stream",
     "text": [
      "Confusion matrix, without normalization\n",
      "[[26  9  3  0]\n",
      " [11  7  1  0]\n",
      " [ 9  2  0  1]\n",
      " [ 2  1  0  1]]\n"
     ]
    },
    {
     "data": {
      "image/png": "[encoded data removed]",
      "text/plain": [
       "<matplotlib.figure.Figure at 0x144cf358>"
      ]
     },
     "metadata": {},
     "output_type": "display_data"
    }
   ],
   "source": [
    "plt.figure()\n",
    "plot_confusion_matrix(cm, classes=class_names,\n",
    "                      title='Confusion matrix- Decission Tree Classifier')"
   ]
  }
 ],
 "metadata": {
  "kernelspec": {
   "display_name": "Python 2",
   "language": "python",
   "name": "python2"
  },
  "language_info": {
   "codemirror_mode": {
    "name": "ipython",
    "version": 2
   },
   "file_extension": ".py",
   "mimetype": "text/x-python",
   "name": "python",
   "nbconvert_exporter": "python",
   "pygments_lexer": "ipython2",
   "version": "2.7.13"
  }
 },
 "nbformat": 4,
 "nbformat_minor": 0
}
