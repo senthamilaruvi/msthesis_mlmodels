{
 "cells": [
  {
   "cell_type": "code",
   "execution_count": 53,
   "metadata": {
    "collapsed": true
   },
   "outputs": [],
   "source": [
    "import pandas as pd\n",
    "import os\n",
    "import matplotlib.pyplot as plt\n",
    "from scipy.stats import norm\n",
    "from scipy.stats import mode\n",
    "import numpy as np\n",
    "import matplotlib.mlab as mlab\n",
    "import math"
   ]
  },
  {
   "cell_type": "code",
   "execution_count": 54,
   "metadata": {
    "collapsed": true
   },
   "outputs": [],
   "source": [
    "os.chdir('E:\\Academics\\Research\\Data\\Experimental data\\Compression_test\\Results\\As_Built')\n",
    "Master_Data = pd.read_csv('Data_As_Built_New.csv').dropna()"
   ]
  },
  {
   "cell_type": "code",
   "execution_count": 55,
   "metadata": {
    "collapsed": true
   },
   "outputs": [],
   "source": [
    "ms = Master_Data['Modulus']"
   ]
  },
  {
   "cell_type": "code",
   "execution_count": 56,
   "metadata": {
    "collapsed": false
   },
   "outputs": [],
   "source": [
    "mu = ms.mean()\n",
    "\n",
    "sigma = ms.std()\n",
    "x = np.linspace(mu - 2*sigma, mu + 2*sigma, 100)\n",
    "plt.plot(x,mlab.normpdf(x, mu, sigma))\n",
    "plt.xlabel('Young\\'s Modulus(GPa)')\n",
    "plt.ylabel('Probablity Density')\n",
    "plt.axvline(mu, color='k', linestyle='dashed', linewidth=2)\n",
    "plt.axvline(mu-sigma, color='k', linestyle='dashed', linewidth=2)\n",
    "plt.axvline(mu+sigma, color='k', linestyle='dashed', linewidth=2)\n",
    "plt.text(mu +10, 0.004, '$\\mu$', style='normal',size = 20)\n",
    "plt.text(mu-sigma-40, 0.004, '$\\mu$ - $\\sigma$', style='normal',size = 20)\n",
    "plt.text(mu+sigma+15, 0.004, '$\\mu$ + $\\sigma$', style='normal',size = 20)\n",
    "plt.title('Method2')\n",
    "plt.show()"
   ]
  }
 ],
 "metadata": {
  "kernelspec": {
   "display_name": "Python 2",
   "language": "python",
   "name": "python2"
  },
  "language_info": {
   "codemirror_mode": {
    "name": "ipython",
    "version": 2
   },
   "file_extension": ".py",
   "mimetype": "text/x-python",
   "name": "python",
   "nbconvert_exporter": "python",
   "pygments_lexer": "ipython2",
   "version": "2.7.13"
  }
 },
 "nbformat": 4,
 "nbformat_minor": 0
}
