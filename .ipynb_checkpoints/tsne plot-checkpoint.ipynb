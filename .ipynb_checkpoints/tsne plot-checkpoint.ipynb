{
 "cells": [
  {
   "cell_type": "code",
   "execution_count": 289,
   "metadata": {
    "collapsed": true
   },
   "outputs": [],
   "source": [
    "# %matplotlib notebook"
   ]
  },
  {
   "cell_type": "code",
   "execution_count": 290,
   "metadata": {
    "collapsed": false
   },
   "outputs": [],
   "source": [
    "import os\n",
    "import pandas as pd\n",
    "from sklearn.manifold import TSNE\n",
    "import numpy as np"
   ]
  },
  {
   "cell_type": "code",
   "execution_count": 291,
   "metadata": {
    "collapsed": true
   },
   "outputs": [],
   "source": [
    "os.chdir('E:\\Academics\\Research\\Data\\Experimental data\\Compression_test\\Results\\As_Built')"
   ]
  },
  {
   "cell_type": "code",
   "execution_count": 292,
   "metadata": {
    "collapsed": false
   },
   "outputs": [
    {
     "data": {
      "text/plain": [
       "['Name',\n",
       " 'X',\n",
       " 'Y',\n",
       " 'Theta',\n",
       " 'Phi',\n",
       " 'Porosity_Fraction',\n",
       " 'Max_Pore_Diameter',\n",
       " 'Mean_Pore_Diameter',\n",
       " 'Median_Pore_Diameter',\n",
       " 'Median_Pore_Spacing',\n",
       " 'Yield',\n",
       " 'Modulus']"
      ]
     },
     "execution_count": 292,
     "metadata": {},
     "output_type": "execute_result"
    }
   ],
   "source": [
    "Master_Data = pd.read_csv('Data_As_Built_Old.csv').dropna()\n",
    "list(Master_Data)"
   ]
  },
  {
   "cell_type": "code",
   "execution_count": 293,
   "metadata": {
    "collapsed": true
   },
   "outputs": [],
   "source": [
    "Master_Data = Master_Data[Master_Data['Phi'] == 90]"
   ]
  },
  {
   "cell_type": "code",
   "execution_count": 294,
   "metadata": {
    "collapsed": false
   },
   "outputs": [],
   "source": [
    "new_input = ['X','Y','Theta']\n",
    "# new_input = ['X','Y','Theta']\n",
    "#new_input = ['Theta','Phi']"
   ]
  },
  {
   "cell_type": "code",
   "execution_count": 295,
   "metadata": {
    "collapsed": false
   },
   "outputs": [],
   "source": [
    "A = Master_Data[new_input]\n",
    "\n",
    "A_Norm = (A-A.min())/(A.max()-A.min())\n"
   ]
  },
  {
   "cell_type": "code",
   "execution_count": 296,
   "metadata": {
    "collapsed": true
   },
   "outputs": [],
   "source": [
    "B = TSNE(n_components=2).fit_transform(A_Norm.values)"
   ]
  },
  {
   "cell_type": "code",
   "execution_count": 297,
   "metadata": {
    "collapsed": false
   },
   "outputs": [],
   "source": [
    "# xs = []\n",
    "# ys = []\n",
    "# zs = []\n",
    "# for i in B:\n",
    "#     xs.append(i[0])\n",
    "#     ys.append(i[1])\n",
    "#     #zs.append(i[2])\n",
    "    \n",
    "ms = Master_Data['Modulus'].values"
   ]
  },
  {
   "cell_type": "code",
   "execution_count": 298,
   "metadata": {
    "collapsed": false
   },
   "outputs": [],
   "source": [
    "# xs = np.array(xs)\n",
    "# ys = np.array(ys)\n",
    "# #zs = np.array(zs)"
   ]
  },
  {
   "cell_type": "code",
   "execution_count": 299,
   "metadata": {
    "collapsed": true
   },
   "outputs": [],
   "source": [
    "def jitter(x, frac=0.03):\n",
    "    return (1 + frac*(2*np.random.random(np.asarray(x).shape)-1.))*x"
   ]
  },
  {
   "cell_type": "code",
   "execution_count": 300,
   "metadata": {
    "collapsed": false,
    "scrolled": true
   },
   "outputs": [],
   "source": [
    "import matplotlib.pyplot as plt\n",
    "from mpl_toolkits.mplot3d import Axes3D\n",
    "\n",
    "xs = Master_Data['X']\n",
    "ys = Master_Data['Y']\n",
    "im = plt.scatter(xs,ys, s= 90, c =ms)\n",
    "plt.xlabel('X(mm)')\n",
    "plt.ylabel('Y(mm)')\n",
    "plt.xlim([0,250])\n",
    "plt.ylim([0,250])\n",
    "plt.title('$\\Phi$ - 90')\n",
    "\n",
    "#fig = plt.figure()\n",
    "#ax = Axes3D(fig)\n",
    "#ax.scatter(xs, ys, zdir='z', s=40, c=ms, depthshade=True)\n",
    "\n",
    "# fig = plt.figure()\n",
    "# ax11 = fig.add_subplot(221)\n",
    "# # ax12 = fig.add_subplot(222)\n",
    "# # ax21 = fig.add_subplot(223)\n",
    "# # ax22 = fig.add_subplot(224)\n",
    "# im = ax11.scatter(xs, ys, s=60, c=ms)\n",
    "# _ = ax12.scatter(Master_Data['X'], Master_Data['Y'], s=60, c=ms)\n",
    "# #_ = ax21.scatter(jitter(Master_Data['Theta']), jitter(Master_Data['Phi']), s=60, c=ms)\n",
    "# _ = ax21.scatter(xs, ys, s=60, c=np.sqrt(Master_Data['X']**2 + Master_Data['Y']**2))\n",
    "# _ = ax22.scatter(xs, ys, s=60, c=Master_Data['Y'])\n",
    "# #_ = ax22.scatter(Master_Data['Max_Pore_Diameter'], Master_Data['Porosity_Fraction'], s=60, c=ms)\n",
    "plt.colorbar(im)\n",
    "plt.show()"
   ]
  },
  {
   "cell_type": "code",
   "execution_count": 301,
   "metadata": {
    "collapsed": false
   },
   "outputs": [],
   "source": [
    "# # effect of Phi\n",
    "# fig = plt.figure()\n",
    "# ax11 = fig.add_subplot(311)\n",
    "# ax21 = fig.add_subplot(312)\n",
    "# ax31 = fig.add_subplot(313)\n",
    "# mask00 = (Master_Data['Phi'] == 0).values\n",
    "# mask45 = (Master_Data['Phi'] == 45).values\n",
    "# mask90 = (Master_Data['Phi'] == 90).values\n",
    "# bins=np.linspace(50, 350, 32)\n",
    "# _ = ax11.hist(ms[mask00], bins=bins)\n",
    "# _ = ax21.hist(ms[mask45], bins=bins)\n",
    "# _ = ax31.hist(ms[mask90], bins=bins)"
   ]
  },
  {
   "cell_type": "code",
   "execution_count": 302,
   "metadata": {
    "collapsed": false
   },
   "outputs": [],
   "source": [
    "# # effect of theta\n",
    "# fig = plt.figure()\n",
    "# ax11 = fig.add_subplot(411)\n",
    "# ax21 = fig.add_subplot(412)\n",
    "# ax31 = fig.add_subplot(413)\n",
    "# ax41 = fig.add_subplot(414)\n",
    "# mask00 = ((Master_Data['Theta'] == 0) | (Master_Data['Theta'] == 180)).values\n",
    "# mask45 = ((Master_Data['Theta'] == 45) | (Master_Data['Theta'] == 225)).values\n",
    "# mask90 = ((Master_Data['Theta'] == 90) | (Master_Data['Theta'] == 270)).values\n",
    "# mask135 = ((Master_Data['Theta'] == 135) | (Master_Data['Theta'] == 315)).values\n",
    "# bins=np.linspace(50, 350, 32)\n",
    "# _ = ax11.hist(ms[mask00], bins=bins)\n",
    "# _ = ax21.hist(ms[mask45], bins=bins)\n",
    "# _ = ax31.hist(ms[mask90], bins=bins)\n",
    "# _ = ax41.hist(ms[mask135], bins=bins)"
   ]
  },
  {
   "cell_type": "code",
   "execution_count": null,
   "metadata": {
    "collapsed": true
   },
   "outputs": [],
   "source": []
  }
 ],
 "metadata": {
  "kernelspec": {
   "display_name": "Python 2",
   "language": "python",
   "name": "python2"
  },
  "language_info": {
   "codemirror_mode": {
    "name": "ipython",
    "version": 2
   },
   "file_extension": ".py",
   "mimetype": "text/x-python",
   "name": "python",
   "nbconvert_exporter": "python",
   "pygments_lexer": "ipython2",
   "version": "2.7.13"
  }
 },
 "nbformat": 4,
 "nbformat_minor": 0
}
