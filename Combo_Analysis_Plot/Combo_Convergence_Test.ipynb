{
 "cells": [
  {
   "cell_type": "code",
   "execution_count": 1,
   "metadata": {
    "collapsed": true
   },
   "outputs": [],
   "source": [
    "%matplotlib inline"
   ]
  },
  {
   "cell_type": "code",
   "execution_count": 2,
   "metadata": {
    "collapsed": false
   },
   "outputs": [],
   "source": [
    "import pandas as pd\n",
    "import numpy as np\n",
    "import matplotlib.pyplot as plt\n",
    "import os\n",
    "import sys\n",
    "import Combo_Functions\n",
    "import random"
   ]
  },
  {
   "cell_type": "code",
   "execution_count": 3,
   "metadata": {
    "collapsed": false
   },
   "outputs": [],
   "source": [
    "#Loading the Data\n",
    "os.chdir('E:\\Academics\\Research\\Data\\Experimental data\\Compression_test\\Analysis\\Input')\n",
    "Data = pd.read_csv('Yield_Iteration2.csv')\n"
   ]
  },
  {
   "cell_type": "code",
   "execution_count": 52,
   "metadata": {
    "collapsed": false
   },
   "outputs": [],
   "source": [
    "#Properties\n",
    "Properties = ['Youngs_Modulus', 'Yield_Strength','Ultimate_Strength','Ductility']\n",
    "Property = Properties[1]"
   ]
  },
  {
   "cell_type": "code",
   "execution_count": 53,
   "metadata": {
    "collapsed": false
   },
   "outputs": [],
   "source": [
    "#Splitting into Training and Test Data\n",
    "Training_Data = Data[Data[Property].notnull()]\n",
    "Test_Data = Data.drop(Data.columns[-1], axis=1)"
   ]
  },
  {
   "cell_type": "code",
   "execution_count": 54,
   "metadata": {
    "collapsed": false
   },
   "outputs": [],
   "source": [
    "# Generating random values from the normal distribution\n",
    "a = np.random.normal(loc = np.mean(Training_Data[Property]),\n",
    "                     scale = np.std(Training_Data[Property]),\n",
    "                     size = 625)\n"
   ]
  },
  {
   "cell_type": "code",
   "execution_count": 55,
   "metadata": {
    "collapsed": false
   },
   "outputs": [],
   "source": [
    "ind = np.asarray(Test_Data.index)\n",
    "ind = np.random.permutation(ind)"
   ]
  },
  {
   "cell_type": "code",
   "execution_count": 56,
   "metadata": {
    "collapsed": true
   },
   "outputs": [],
   "source": [
    "g = 0 \n",
    "h = 25\n",
    "avg_std_dev = []\n",
    "max_std_dev = []"
   ]
  },
  {
   "cell_type": "code",
   "execution_count": 57,
   "metadata": {
    "collapsed": true
   },
   "outputs": [],
   "source": [
    "#Generate divisors of a number\n",
    "def divisorGenerator(n):\n",
    "    large_divisors = []\n",
    "    for i in xrange(1, int(math.sqrt(n) + 1)):\n",
    "        if n % i == 0:\n",
    "            yield i\n",
    "            if i*i != n:\n",
    "                large_divisors.append(n / i)\n",
    "    for divisor in reversed(large_divisors):\n",
    "        yield divisor"
   ]
  },
  {
   "cell_type": "code",
   "execution_count": 58,
   "metadata": {
    "collapsed": true
   },
   "outputs": [],
   "source": [
    "def blockPrint():\n",
    "    sys.stdout = open(os.devnull, 'w')\n",
    "\n",
    "# Restore\n",
    "def enablePrint():\n",
    "    sys.stdout = sys.__stdout__"
   ]
  },
  {
   "cell_type": "code",
   "execution_count": 59,
   "metadata": {
    "collapsed": false
   },
   "outputs": [
    {
     "name": "stderr",
     "output_type": "stream",
     "text": [
      "C:\\Users\\senth\\Anaconda2\\lib\\site-packages\\ipykernel\\__main__.py:1: SettingWithCopyWarning: \n",
      "A value is trying to be set on a copy of a slice from a DataFrame\n",
      "\n",
      "See the caveats in the documentation: http://pandas.pydata.org/pandas-docs/stable/indexing.html#indexing-view-versus-copy\n",
      "  if __name__ == '__main__':\n"
     ]
    }
   ],
   "source": [
    "Data[Property][ind[g:h]] = a[g:h]"
   ]
  },
  {
   "cell_type": "code",
   "execution_count": 60,
   "metadata": {
    "collapsed": false
   },
   "outputs": [
    {
     "name": "stderr",
     "output_type": "stream",
     "text": [
      "C:\\Users\\senth\\Anaconda2\\lib\\site-packages\\ipykernel\\__main__.py:2: SettingWithCopyWarning: \n",
      "A value is trying to be set on a copy of a slice from a DataFrame\n",
      "\n",
      "See the caveats in the documentation: http://pandas.pydata.org/pandas-docs/stable/indexing.html#indexing-view-versus-copy\n",
      "  from ipykernel import kernelapp as app\n"
     ]
    }
   ],
   "source": [
    "for i in range((len(a)/25)-1):\n",
    "    Data[Property][ind[g:h]] = a[g:h]\n",
    "    \n",
    "    subs = np.array(np.split(b[:36], 6))\n",
    "    iterations = []\n",
    "    training_indices = np.concatenate(subs[j])\n",
    "    testing_indices = subs[i]\n",
    "\n",
    "    # create data subsets\n",
    "    iteration.train = Data[training_indices]\n",
    "    iteration.test = Data[testing_indices]\n",
    "    \n",
    "    \n",
    "    \n",
    "    j = range(6)\n",
    "    del j[i]\n",
    "    training_indices = np.concatenate(subs[j])\n",
    "    testing_indices = subs[i]\n",
    "    \n",
    "    Temp_Training_Data = Data[Data[Property].notnull()]\n",
    "    Temp_Test_Data = Data[~Data[Property].notnull()].dropna(axis = 1)\n",
    "    blockPrint()\n",
    "    Temp_Results = Combo_Functions.Predict(Temp_Training_Data,Temp_Test_Data)\n",
    "    avg_std_dev.append(np.mean(Temp_Results['Predicted_Sdev']))\n",
    "    max_std_dev.append(np.max(Temp_Results['Predicted_Sdev']))\n",
    "    g = g+25\n",
    "    h = h+25"
   ]
  },
  {
   "cell_type": "code",
   "execution_count": 64,
   "metadata": {
    "collapsed": false
   },
   "outputs": [
    {
     "data": {
      "text/plain": [
       "<matplotlib.lines.Line2D at 0x113fe2e8>"
      ]
     },
     "execution_count": 64,
     "metadata": {},
     "output_type": "execute_result"
    },
    {
     "data": {
      "image/png": "[encoded data removed]",
      "text/plain": [
       "<matplotlib.figure.Figure at 0x10f70898>"
      ]
     },
     "metadata": {},
     "output_type": "display_data"
    }
   ],
   "source": [
    "# plot your results\n",
    "fig = plt.figure(figsize=(16,9))\n",
    "ax1 = fig.add_subplot(121)\n",
    "ax2 = fig.add_subplot(122)\n",
    "\n",
    "\n",
    "ax1.plot(avg_std_dev,'r-')\n",
    "ax1.set_xlabel('Iteration',size = 15)\n",
    "ax1.set_ylabel('Average Std dev', size = 15)\n",
    "ax1.axhline(sigma, linestyle='--')\n",
    "ax1.axhline(50, linestyle = '-')\n",
    "ax1.axhline(80, linestyle = '-')\n",
    "\n",
    "ax2.plot(max_std_dev,'r-')\n",
    "ax2.set_xlabel('Iteration', size = 15)\n",
    "ax2.set_ylabel('Max Std dev', size = 15)\n",
    "ax2.axhline(sigma, linestyle='--')\n",
    "\n"
   ]
  },
  {
   "cell_type": "code",
   "execution_count": 62,
   "metadata": {
    "collapsed": false
   },
   "outputs": [
    {
     "data": {
      "text/plain": [
       "603"
      ]
     },
     "execution_count": 62,
     "metadata": {},
     "output_type": "execute_result"
    }
   ],
   "source": [
    "len(Temp_Training_Data)"
   ]
  },
  {
   "cell_type": "code",
   "execution_count": 63,
   "metadata": {
    "collapsed": false
   },
   "outputs": [
    {
     "data": {
      "text/plain": [
       "22"
      ]
     },
     "execution_count": 63,
     "metadata": {},
     "output_type": "execute_result"
    }
   ],
   "source": [
    "len(Temp_Test_Data)"
   ]
  },
  {
   "cell_type": "code",
   "execution_count": null,
   "metadata": {
    "collapsed": true
   },
   "outputs": [],
   "source": []
  }
 ],
 "metadata": {
  "kernelspec": {
   "display_name": "Python 2",
   "language": "python",
   "name": "python2"
  },
  "language_info": {
   "codemirror_mode": {
    "name": "ipython",
    "version": 2
   },
   "file_extension": ".py",
   "mimetype": "text/x-python",
   "name": "python",
   "nbconvert_exporter": "python",
   "pygments_lexer": "ipython2",
   "version": "2.7.13"
  }
 },
 "nbformat": 4,
 "nbformat_minor": 0
}
