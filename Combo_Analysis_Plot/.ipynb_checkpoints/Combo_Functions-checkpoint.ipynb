{
 "cells": [
  {
   "cell_type": "code",
   "execution_count": 40,
   "metadata": {
    "collapsed": true
   },
   "outputs": [],
   "source": [
    "%matplotlib inline"
   ]
  },
  {
   "cell_type": "code",
   "execution_count": 1,
   "metadata": {
    "collapsed": true
   },
   "outputs": [],
   "source": [
    "import numpy as np\n",
    "import os\n",
    "import matplotlib.pyplot as plt\n",
    "import combo\n",
    "import pandas as pd"
   ]
  },
  {
   "cell_type": "code",
   "execution_count": 3,
   "metadata": {
    "collapsed": false
   },
   "outputs": [],
   "source": [
    "def Predict(Training_data,Test_data):\n",
    "    \n",
    "    Data1 = Training_data.values\n",
    "    Data_test1 = Test_data.values\n",
    "    \n",
    "    stdX  = np.std( Data1, 0 )\n",
    "    index = np.where(stdX !=0)\n",
    "    meanX = np.mean(Data1[:,index[0]],0)\n",
    "    \n",
    "    Data1 = combo.misc.centering(Data1)\n",
    "    Data_test1 = combo.misc.centering(Data_test1)\n",
    "    \n",
    "    X = Data1[:,0:4]\n",
    "    t = (Data1[:,4])\n",
    "    \n",
    "    cov = combo.gp.cov.gauss(X.shape[1], ard = False)\n",
    "    mean = combo.gp.mean.zero()\n",
    "    lik = combo.gp.lik.gauss()\n",
    "    \n",
    "    gp = combo.gp.model(lik = lik,mean = mean, cov = cov)\n",
    "    config = combo.misc.set_config()\n",
    "    np.random.seed(1000)\n",
    "\n",
    "    index = np.random.permutation(xrange(X.shape[0]))\n",
    "    train_X = X[index,:]\n",
    "    train_t = t[index]\n",
    "\n",
    "    gp.fit(train_X, train_t, config)\n",
    "    gp.prepare(train_X, train_t)\n",
    "    \n",
    "    new_X = Data_test1[:,0:4]\n",
    "    new_fmean =  gp.get_post_fmean(train_X, new_X)\n",
    "    new_fcov = gp.get_post_fcov(train_X,new_X)\n",
    "    sigma = []\n",
    "    \n",
    "    for i in range(new_X.shape[0]):\n",
    "        sigma.append(np.sqrt(new_fcov[i]))\n",
    "    Predicted_Value = []\n",
    "    Predicted_Sdev = []\n",
    "    \n",
    "    for i in range(0,len(new_fmean)):\n",
    "        Predicted_Value.append((new_fmean[i]*stdX[4])+meanX[4])\n",
    "        Predicted_Sdev.append((sigma[i]*stdX[4]))\n",
    "\n",
    "    Output = pd.DataFrame({'Predicted_Value':Predicted_Value, 'Predicted_Sdev':Predicted_Sdev},\n",
    "                          columns = ['Predicted_Value', 'Predicted_Sdev'])\n",
    "\n",
    "    Result = pd.concat([Test_data.reset_index(), Output],axis = 1)\n",
    "\n",
    "    return(Result)"
   ]
  },
  {
   "cell_type": "code",
   "execution_count": 14,
   "metadata": {
    "collapsed": true
   },
   "outputs": [],
   "source": [
    "def Validate(Data_train,Data_test):\n",
    "    X = Data_train[:,0:-1]\n",
    "    t = Data_train[:,-1]\n",
    "    \n",
    "    cov = combo.gp.cov.gauss(X.shape[1], ard = False)\n",
    "    mean = combo.gp.mean.zero()\n",
    "    lik = combo.gp.lik.gauss()\n",
    "    \n",
    "    gp = combo.gp.model(lik = lik,mean = mean, cov = cov)\n",
    "    \n",
    "    config = combo.misc.set_config()\n",
    "    np.random.seed(1000)\n",
    "    \n",
    "    index = np.random.permutation(xrange(X.shape[0]))\n",
    "    train_X = X[index,:]\n",
    "    train_t = t[index]\n",
    "    gp.fit(train_X, train_t, config)\n",
    "    gp.prepare(train_X, train_t)\n",
    "    \n",
    "    new_X = Data_test[:,0:-1]\n",
    "    new_fmean =  gp.get_post_fmean(train_X, new_X)\n",
    "    \n",
    "    return (new_fmean)"
   ]
  },
  {
   "cell_type": "code",
   "execution_count": 7,
   "metadata": {
    "collapsed": true
   },
   "outputs": [],
   "source": []
  },
  {
   "cell_type": "code",
   "execution_count": null,
   "metadata": {
    "collapsed": true
   },
   "outputs": [],
   "source": []
  }
 ],
 "metadata": {
  "kernelspec": {
   "display_name": "Python 2",
   "language": "python",
   "name": "python2"
  },
  "language_info": {
   "codemirror_mode": {
    "name": "ipython",
    "version": 2
   },
   "file_extension": ".py",
   "mimetype": "text/x-python",
   "name": "python",
   "nbconvert_exporter": "python",
   "pygments_lexer": "ipython2",
   "version": "2.7.13"
  }
 },
 "nbformat": 4,
 "nbformat_minor": 0
}
