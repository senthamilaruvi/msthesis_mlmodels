{
 "cells": [
  {
   "cell_type": "code",
   "execution_count": 140,
   "metadata": {
    "collapsed": false
   },
   "outputs": [],
   "source": [
    "%matplotlib inline"
   ]
  },
  {
   "cell_type": "code",
   "execution_count": 141,
   "metadata": {
    "collapsed": false
   },
   "outputs": [],
   "source": [
    "from sklearn.gaussian_process import GaussianProcessRegressor\n",
    "from sklearn.gaussian_process.kernels import RationalQuadratic as R\n",
    "import numpy as np\n",
    "import os\n",
    "import pandas as pd\n",
    "import matplotlib.pyplot as plt\n",
    "from sklearn.metrics import r2_score"
   ]
  },
  {
   "cell_type": "code",
   "execution_count": 142,
   "metadata": {
    "collapsed": false
   },
   "outputs": [],
   "source": [
    "os.chdir('E:\\Academics\\Research\\Data\\Experimental data\\Compression_test\\Analysis\\Combo_validation\\Input')\n",
    "Modulus_Data = pd.read_csv('Modulus_Iteration2.csv')\n",
    "Yield_Data = pd.read_csv('Yield_Iteration2.csv')"
   ]
  },
  {
   "cell_type": "code",
   "execution_count": 143,
   "metadata": {
    "collapsed": true
   },
   "outputs": [],
   "source": [
    "#Properties\n",
    "Properties = ['Youngs_Modulus', 'Yield_Strength','Ultimate_Strength','Ductility']\n",
    "Property = Properties[0]"
   ]
  },
  {
   "cell_type": "code",
   "execution_count": 144,
   "metadata": {
    "collapsed": false
   },
   "outputs": [],
   "source": [
    "# Data = Modulus_Data[Modulus_Data['Youngs_Modulus'].notnull()].reset_index()\n",
    "Data = Yield_Data[Yield_Data[Property].notnull()].reset_index()\n",
    "del Data['index']\n",
    "Data = Data.values"
   ]
  },
  {
   "cell_type": "code",
   "execution_count": 145,
   "metadata": {
    "collapsed": false
   },
   "outputs": [
    {
     "name": "stdout",
     "output_type": "stream",
     "text": [
      "Original: [ 0  1  2  3  4  5  6  7  8  9 10 11 12 13 14 15 16 17 18 19 20 21 22 23 24\n",
      " 25 26 27 28 29 30 31 32 33 34 35 36 37 38]\n"
     ]
    }
   ],
   "source": [
    "b = np.arange(len(Data))\n",
    "print \"Original:\", b\n"
   ]
  },
  {
   "cell_type": "code",
   "execution_count": 146,
   "metadata": {
    "collapsed": true
   },
   "outputs": [],
   "source": [
    "class Iteration(object):\n",
    "    pass"
   ]
  },
  {
   "cell_type": "code",
   "execution_count": 147,
   "metadata": {
    "collapsed": false
   },
   "outputs": [
    {
     "name": "stdout",
     "output_type": "stream",
     "text": [
      "Randomized: [23  2 29 22 38 20 33  9 21  0 11 12 15 19 34 28 26 35 14  6  7 36 31 25  8\n",
      " 24 17 37 30 13  1 10 32 18 27  4  5  3 16]\n",
      "<<< Iteration 0 >>>\n",
      "Training: [22 38 20 33  9 21  0 11 12 15 19 34 28 26 35 14  6  7 36 31 25  8 24 17 37\n",
      " 30 13  1 10 32 18 27  4]\n",
      "Testing: [23  2 29]\n",
      "Predicted: [ 211.78938617  210.55414646  224.8352325 ]\n",
      "Actual: [ 227.  241.  295.]\n",
      "<<< Iteration 1 >>>\n",
      "Training: [23  2 29 33  9 21  0 11 12 15 19 34 28 26 35 14  6  7 36 31 25  8 24 17 37\n",
      " 30 13  1 10 32 18 27  4]\n",
      "Testing: [22 38 20]\n",
      "Predicted: [ 203.33344714  198.47339626  219.42944037]\n",
      "Actual: [ 192.  174.  327.]\n",
      "<<< Iteration 2 >>>\n",
      "Training: [23  2 29 22 38 20  0 11 12 15 19 34 28 26 35 14  6  7 36 31 25  8 24 17 37\n",
      " 30 13  1 10 32 18 27  4]\n",
      "Testing: [33  9 21]\n",
      "Predicted: [ 185.86306934  208.16276562  179.23097526]\n",
      "Actual: [ 145.  289.  174.]\n",
      "<<< Iteration 3 >>>\n",
      "Training: [23  2 29 22 38 20 33  9 21 15 19 34 28 26 35 14  6  7 36 31 25  8 24 17 37\n",
      " 30 13  1 10 32 18 27  4]\n",
      "Testing: [ 0 11 12]\n",
      "Predicted: [ 244.91018883  197.47329806  178.35236888]\n",
      "Actual: [ 203.  284.  220.]\n",
      "<<< Iteration 4 >>>\n",
      "Training: [23  2 29 22 38 20 33  9 21  0 11 12 28 26 35 14  6  7 36 31 25  8 24 17 37\n",
      " 30 13  1 10 32 18 27  4]\n",
      "Testing: [15 19 34]\n",
      "Predicted: [ 191.42356271  195.75247731  211.63038715]\n",
      "Actual: [  72.  118.  209.]\n",
      "<<< Iteration 5 >>>\n",
      "Training: [23  2 29 22 38 20 33  9 21  0 11 12 15 19 34 14  6  7 36 31 25  8 24 17 37\n",
      " 30 13  1 10 32 18 27  4]\n",
      "Testing: [28 26 35]\n",
      "Predicted: [ 246.39000027  168.74403422  187.10593652]\n",
      "Actual: [ 331.  176.  121.]\n",
      "<<< Iteration 6 >>>\n",
      "Training: [23  2 29 22 38 20 33  9 21  0 11 12 15 19 34 28 26 35 36 31 25  8 24 17 37\n",
      " 30 13  1 10 32 18 27  4]\n",
      "Testing: [14  6  7]\n",
      "Predicted: [ 174.5926286   217.14293615  202.28055856]\n",
      "Actual: [ 133.  333.  306.]\n",
      "<<< Iteration 7 >>>\n",
      "Training: [23  2 29 22 38 20 33  9 21  0 11 12 15 19 34 28 26 35 14  6  7  8 24 17 37\n",
      " 30 13  1 10 32 18 27  4]\n",
      "Testing: [36 31 25]\n",
      "Predicted: [ 225.99265158  269.9249157   173.49608127]\n",
      "Actual: [ 246.  279.  170.]\n",
      "<<< Iteration 8 >>>\n",
      "Training: [23  2 29 22 38 20 33  9 21  0 11 12 15 19 34 28 26 35 14  6  7 36 31 25 37\n",
      " 30 13  1 10 32 18 27  4]\n",
      "Testing: [ 8 24 17]\n",
      "Predicted: [ 214.10415968  178.89982298  209.40446853]\n",
      "Actual: [  93.  289.  103.]\n",
      "<<< Iteration 9 >>>\n",
      "Training: [23  2 29 22 38 20 33  9 21  0 11 12 15 19 34 28 26 35 14  6  7 36 31 25  8\n",
      " 24 17  1 10 32 18 27  4]\n",
      "Testing: [37 30 13]\n",
      "Predicted: [ 161.04218811  188.14785854  211.70732912]\n",
      "Actual: [ 195.  108.  253.]\n",
      "<<< Iteration 10 >>>\n",
      "Training: [23  2 29 22 38 20 33  9 21  0 11 12 15 19 34 28 26 35 14  6  7 36 31 25  8\n",
      " 24 17 37 30 13 18 27  4]\n",
      "Testing: [ 1 10 32]\n",
      "Predicted: [ 211.80065253  216.8184823   180.76230261]\n",
      "Actual: [ 262.  176.  104.]\n",
      "<<< Iteration 11 >>>\n",
      "Training: [23  2 29 22 38 20 33  9 21  0 11 12 15 19 34 28 26 35 14  6  7 36 31 25  8\n",
      " 24 17 37 30 13  1 10 32]\n",
      "Testing: [18 27  4]\n",
      "Predicted: [ 238.24560378  233.88306499  242.55120278]\n",
      "Actual: [ 204.  209.  181.]\n"
     ]
    }
   ],
   "source": [
    "np.random.shuffle(b)\n",
    "print \"Randomized:\", b\n",
    "\n",
    "N = 12\n",
    "subs = np.array(np.split(b[:36], N))\n",
    "\n",
    "iterations = []\n",
    "for i in range(N):\n",
    "    print \"<<< Iteration {} >>>\".format(i)\n",
    "    iteration = Iteration()\n",
    "    # which step in the N-fold cross validation (which is test, which is train)\n",
    "    j = range(N)\n",
    "    del j[i]\n",
    "    training_indices = np.concatenate(subs[j])\n",
    "    testing_indices = subs[i]\n",
    "    print \"Training:\", training_indices\n",
    "    print \"Testing:\", testing_indices\n",
    "\n",
    "    # create data subsets\n",
    "    iteration.train = Data[training_indices]\n",
    "    iteration.test = Data[testing_indices]\n",
    "    \n",
    "    X = Data[training_indices][:,0:-1]\n",
    "    y = Data[training_indices][:,-1]\n",
    "    \n",
    "    # Instanciate a Gaussian Process model\n",
    "    kernel = 1.5*R(length_scale=2.0, alpha=10)\n",
    "    gp = GaussianProcessRegressor(kernel=kernel, n_restarts_optimizer=20)\n",
    "    \n",
    "    # Fit to data using Maximum Likelihood Estimation of the parameters\n",
    "    gp.fit(X, y)\n",
    "\n",
    "    # Train and Predict the results\n",
    "    Data_predict, std = gp.predict(Data[testing_indices][:,0:-1], return_std=True)\n",
    "    Data_actual = Data[testing_indices][:,-1]\n",
    "    \n",
    "    \n",
    "    print \"Predicted:\", Data_predict\n",
    "    print \"Actual:\", Data_actual\n",
    "\n",
    "    # test your model\n",
    "    r = r2_score(Data_actual,Data_predict)\n",
    "    iteration.predict = Data_predict\n",
    "    iteration.actual = Data_actual\n",
    "    iteration.r = r\n",
    "    \n",
    "    # save the results (error in the testing data, error in the training data, etc.)\n",
    "    iterations.append(iteration)"
   ]
  },
  {
   "cell_type": "code",
   "execution_count": 148,
   "metadata": {
    "collapsed": false
   },
   "outputs": [
    {
     "data": {
      "text/plain": [
       "<matplotlib.text.Text at 0xfbbec50>"
      ]
     },
     "execution_count": 148,
     "metadata": {},
     "output_type": "execute_result"
    },
    {
     "data": {
      "image/png": "[encoded data removed]",
      "text/plain": [
       "<matplotlib.figure.Figure at 0xc8f4c50>"
      ]
     },
     "metadata": {},
     "output_type": "display_data"
    }
   ],
   "source": [
    "# plot your results\n",
    "fig = plt.figure(figsize=(16,9))\n",
    "ax1 = fig.add_subplot(131)\n",
    "x = np.arange(len(iterations))\n",
    "y = np.array([it.r for it in iterations])\n",
    "ax1.plot(x, y,'r.')\n",
    "ax1.set_xlabel('Iteration',size = 15)\n",
    "ax1.set_ylabel('R^2', size = 15)"
   ]
  },
  {
   "cell_type": "code",
   "execution_count": 149,
   "metadata": {
    "collapsed": false
   },
   "outputs": [
    {
     "data": {
      "text/plain": [
       "<matplotlib.legend.Legend at 0x10a2cef0>"
      ]
     },
     "execution_count": 149,
     "metadata": {},
     "output_type": "execute_result"
    },
    {
     "data": {
      "image/png": "[encoded data removed]",
      "text/plain": [
       "<matplotlib.figure.Figure at 0xfc7df98>"
      ]
     },
     "metadata": {},
     "output_type": "display_data"
    }
   ],
   "source": [
    "fig = plt.figure(figsize=(16,9))\n",
    "ax = fig.add_subplot(111)\n",
    "for i,it in enumerate(iterations):\n",
    "    y = it.predict\n",
    "    x = it.actual\n",
    "    ax.plot(x, y, marker='o', linewidth=0, label='#{}'.format(i))\n",
    "ax.set_xlabel('Actual')\n",
    "ax.set_ylabel('Predicted')\n",
    "xlim = ax.get_xlim()\n",
    "ylim = ax.get_ylim()\n",
    "ax.plot(xlim, ylim, 'k--')\n",
    "ax.set_xlim(*xlim)\n",
    "ax.set_ylim(*ylim)\n",
    "ax.legend()"
   ]
  }
 ],
 "metadata": {
  "kernelspec": {
   "display_name": "Python 2",
   "language": "python",
   "name": "python2"
  },
  "language_info": {
   "codemirror_mode": {
    "name": "ipython",
    "version": 2
   },
   "file_extension": ".py",
   "mimetype": "text/x-python",
   "name": "python",
   "nbconvert_exporter": "python",
   "pygments_lexer": "ipython2",
   "version": "2.7.13"
  }
 },
 "nbformat": 4,
 "nbformat_minor": 0
}
