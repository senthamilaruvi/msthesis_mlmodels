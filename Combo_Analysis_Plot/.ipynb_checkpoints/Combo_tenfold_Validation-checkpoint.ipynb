{
 "cells": [
  {
   "cell_type": "code",
   "execution_count": 101,
   "metadata": {
    "collapsed": true
   },
   "outputs": [],
   "source": [
    "# %matplotlib inline"
   ]
  },
  {
   "cell_type": "code",
   "execution_count": 102,
   "metadata": {
    "collapsed": false
   },
   "outputs": [],
   "source": [
    "import pandas as pd\n",
    "import numpy as np\n",
    "import matplotlib.pyplot as plt\n",
    "import os\n",
    "import Combo_Functions as cf\n",
    "import combo\n",
    "import math \n",
    "import itertools\n",
    "import sys\n",
    "from sklearn.metrics import r2_score\n",
    "from sklearn.metrics import mean_squared_error\n"
   ]
  },
  {
   "cell_type": "code",
   "execution_count": 103,
   "metadata": {
    "collapsed": false
   },
   "outputs": [
    {
     "data": {
      "text/plain": [
       "69"
      ]
     },
     "execution_count": 103,
     "metadata": {},
     "output_type": "execute_result"
    }
   ],
   "source": [
    "#Import Data\n",
    "os.chdir('E:\\Academics\\Research\\Data\\Experimental data\\Compression_test\\Results\\Input\\As_Built')\n",
    "Master_Data = pd.read_csv('Data_As_Built_New.csv').dropna()\n",
    "len(Master_Data)"
   ]
  },
  {
   "cell_type": "code",
   "execution_count": 104,
   "metadata": {
    "collapsed": true
   },
   "outputs": [],
   "source": [
    "# Input and output columns in Dataframe\n",
    "Input = ['X','Y','Theta','Phi','Max_Pore_Diameter']\n",
    "Properties = ['Yield','Modulus']\n",
    "Output = Properties[0]"
   ]
  },
  {
   "cell_type": "code",
   "execution_count": 105,
   "metadata": {
    "collapsed": false
   },
   "outputs": [],
   "source": [
    "# Normalization of data\n",
    "full = []\n",
    "full.extend(Input)\n",
    "full.extend(Properties)\n",
    "Parsed_Data = Master_Data[full]\n",
    "Parsed_Data = Parsed_Data[Parsed_Data['Phi']==90]"
   ]
  },
  {
   "cell_type": "code",
   "execution_count": 106,
   "metadata": {
    "collapsed": true
   },
   "outputs": [],
   "source": [
    "IO = ['X','Y','Theta','Max_Pore_Diameter',Output]\n",
    "Parsed_Data = Parsed_Data[IO]"
   ]
  },
  {
   "cell_type": "code",
   "execution_count": 107,
   "metadata": {
    "collapsed": true
   },
   "outputs": [],
   "source": [
    "new_input = ['X','Y','Theta','Max_Pore_Diameter']"
   ]
  },
  {
   "cell_type": "code",
   "execution_count": 108,
   "metadata": {
    "collapsed": true
   },
   "outputs": [],
   "source": [
    "Normalized_Data = (Parsed_Data-Parsed_Data.min())/(Parsed_Data.max()-Parsed_Data.min())\n",
    "Normalized_Data = Normalized_Data.dropna()"
   ]
  },
  {
   "cell_type": "code",
   "execution_count": 109,
   "metadata": {
    "collapsed": false
   },
   "outputs": [],
   "source": [
    "# Name Input and target values\n",
    "X = Normalized_Data[new_input].values\n",
    "y = Normalized_Data[Output].values"
   ]
  },
  {
   "cell_type": "code",
   "execution_count": 110,
   "metadata": {
    "collapsed": true
   },
   "outputs": [],
   "source": [
    "Data = np.column_stack((X,y))"
   ]
  },
  {
   "cell_type": "code",
   "execution_count": 111,
   "metadata": {
    "collapsed": false
   },
   "outputs": [],
   "source": [
    "stdX  = np.std( Data, 0 )\n",
    "index = np.where(stdX !=0)\n",
    "meanX = np.mean(Data[:,index[0]],0)"
   ]
  },
  {
   "cell_type": "code",
   "execution_count": 112,
   "metadata": {
    "collapsed": true
   },
   "outputs": [],
   "source": [
    "Data = combo.misc.centering(Data)"
   ]
  },
  {
   "cell_type": "code",
   "execution_count": 113,
   "metadata": {
    "collapsed": false
   },
   "outputs": [],
   "source": [
    "L = len(Data)\n",
    "b = np.arange(L)\n",
    "print \"Original:\", b\n"
   ]
  },
  {
   "cell_type": "code",
   "execution_count": 114,
   "metadata": {
    "collapsed": true
   },
   "outputs": [],
   "source": [
    "def blockPrint():\n",
    "    sys.stdout = open(os.devnull, 'w')\n",
    "\n",
    "# Restore\n",
    "def enablePrint():\n",
    "    sys.stdout = sys.__stdout__"
   ]
  },
  {
   "cell_type": "code",
   "execution_count": 115,
   "metadata": {
    "collapsed": true
   },
   "outputs": [],
   "source": [
    "class Iteration(object):\n",
    "    pass"
   ]
  },
  {
   "cell_type": "code",
   "execution_count": 116,
   "metadata": {
    "collapsed": true
   },
   "outputs": [],
   "source": [
    "Train_R2 = []\n",
    "Test_R2 = []\n",
    "\n",
    "Train_Error = []\n",
    "Test_Error = []"
   ]
  },
  {
   "cell_type": "code",
   "execution_count": 117,
   "metadata": {
    "collapsed": true
   },
   "outputs": [],
   "source": [
    "#K Fold cross validation\n",
    "n = 5"
   ]
  },
  {
   "cell_type": "code",
   "execution_count": 118,
   "metadata": {
    "collapsed": false
   },
   "outputs": [
    {
     "ename": "IndexError",
     "evalue": "arrays used as indices must be of integer (or boolean) type",
     "output_type": "error",
     "traceback": [
      "\u001b[1;31m---------------------------------------------------------------------------\u001b[0m",
      "\u001b[1;31mIndexError\u001b[0m                                Traceback (most recent call last)",
      "\u001b[1;32m<ipython-input-118-575f0e029cd0>\u001b[0m in \u001b[0;36m<module>\u001b[1;34m()\u001b[0m\n\u001b[0;32m     14\u001b[0m     \u001b[1;31m# Train and Predict the results\u001b[0m\u001b[1;33m\u001b[0m\u001b[1;33m\u001b[0m\u001b[0m\n\u001b[0;32m     15\u001b[0m     \u001b[0mblockPrint\u001b[0m\u001b[1;33m(\u001b[0m\u001b[1;33m)\u001b[0m\u001b[1;33m\u001b[0m\u001b[0m\n\u001b[1;32m---> 16\u001b[1;33m     \u001b[0mTrain_predict\u001b[0m \u001b[1;33m=\u001b[0m \u001b[0mcf\u001b[0m\u001b[1;33m.\u001b[0m\u001b[0mValidate\u001b[0m\u001b[1;33m(\u001b[0m\u001b[0mData\u001b[0m\u001b[1;33m[\u001b[0m\u001b[0mtraining_indices\u001b[0m\u001b[1;33m]\u001b[0m\u001b[1;33m,\u001b[0m \u001b[0mData\u001b[0m\u001b[1;33m[\u001b[0m\u001b[0mtraining_indices\u001b[0m\u001b[1;33m]\u001b[0m\u001b[1;33m)\u001b[0m\u001b[1;33m\u001b[0m\u001b[0m\n\u001b[0m\u001b[0;32m     17\u001b[0m     \u001b[0mTest_predict\u001b[0m \u001b[1;33m=\u001b[0m \u001b[0mcf\u001b[0m\u001b[1;33m.\u001b[0m\u001b[0mValidate\u001b[0m\u001b[1;33m(\u001b[0m\u001b[0mData\u001b[0m\u001b[1;33m[\u001b[0m\u001b[0mtraining_indices\u001b[0m\u001b[1;33m]\u001b[0m\u001b[1;33m,\u001b[0m\u001b[0mData\u001b[0m\u001b[1;33m[\u001b[0m\u001b[0mtesting_indices\u001b[0m\u001b[1;33m]\u001b[0m\u001b[1;33m)\u001b[0m \u001b[1;31m# test_predict\u001b[0m\u001b[1;33m\u001b[0m\u001b[0m\n\u001b[0;32m     18\u001b[0m     \u001b[0mData_actual\u001b[0m \u001b[1;33m=\u001b[0m \u001b[0mData\u001b[0m\u001b[1;33m[\u001b[0m\u001b[1;33m:\u001b[0m\u001b[1;33m,\u001b[0m\u001b[1;33m-\u001b[0m\u001b[1;36m1\u001b[0m\u001b[1;33m]\u001b[0m\u001b[1;33m[\u001b[0m\u001b[0mtesting_indices\u001b[0m\u001b[1;33m]\u001b[0m\u001b[1;33m\u001b[0m\u001b[0m\n",
      "\u001b[1;32mCombo_Functions.pyc\u001b[0m in \u001b[0;36mValidate\u001b[1;34m(Data_train, Data_test)\u001b[0m\n",
      "\u001b[1;31mIndexError\u001b[0m: arrays used as indices must be of integer (or boolean) type"
     ]
    }
   ],
   "source": [
    "subs = np.array(np.split(b, n))\n",
    "for i in range(n):\n",
    "    iteration = Iteration()\n",
    "    # which step in the N-fold cross validation (which is test, which is train)\n",
    "    j = range(n)\n",
    "    del j[i]\n",
    "    training_indices = np.concatenate(subs[j])\n",
    "    testing_indices = subs[i]\n",
    "\n",
    "    # create data subsets\n",
    "    iteration.train = Data[training_indices]\n",
    "    iteration.test = Data[testing_indices]\n",
    "\n",
    "    # Train and Predict the results\n",
    "    blockPrint()\n",
    "    Train_predict = cf.Validate(Data[training_indices], Data[training_indices])\n",
    "    Test_predict = cf.Validate(Data[training_indices],Data[testing_indices]) # test_predict\n",
    "    Data_actual = Data[:,-1][testing_indices]\n",
    "    Data_train = Data[:,-1][training_indices]\n",
    "\n",
    "\n",
    "    # Decentering the Data\n",
    "    Test_predict = Test_predict*stdX[-1]+meanX[-1]\n",
    "    Train_predict = Train_predict*stdX[-1]+meanX[-1]\n",
    "    Data_actual = Data_actual*stdX[-1]+meanX[-1]\n",
    "    Data_train = Data_train*stdX[-1]+meanX[-1]\n",
    "\n",
    "    # test your model\n",
    "    r_test = r2_score(Data_actual,Test_predict)\n",
    "    r_train = r2_score(Data_train,Train_predict)\n",
    "\n",
    "    iteration.predict_test = Test_predict\n",
    "    iteration.predict_train = Train_predict\n",
    "\n",
    "    iteration.actual = Data_actual\n",
    "    iteration.train = Data_train\n",
    "\n",
    "    iteration.r_train = r_train\n",
    "    iteration.r_test = r_test\n",
    "\n",
    "    iteration.er_test = np.sqrt(mean_squared_error(Data_actual,Test_predict,multioutput = 'uniform_average'))\n",
    "    iteration.er_train = np.sqrt(mean_squared_error(Data_train,Train_predict,multioutput = 'uniform_average'))\n",
    "\n",
    "    # save the results (error in the testing data, error in the training data, etc.)\n",
    "    iterations.append(iteration)\n",
    "\n",
    "\n",
    "    "
   ]
  },
  {
   "cell_type": "code",
   "execution_count": null,
   "metadata": {
    "collapsed": false,
    "scrolled": true
   },
   "outputs": [],
   "source": [
    "# plot your results\n",
    "fig = plt.figure(figsize=(16,9))\n",
    "ax1 = fig.add_subplot(121)\n",
    "ax2 = fig.add_subplot(122)\n",
    "\n",
    "x = N\n",
    "y = Train_R2\n",
    "z = Test_R2\n",
    "\n",
    "y1 = Train_Error\n",
    "z1 = Test_Error\n",
    "\n",
    "ax1.plot(x, y,'r-',label = 'Train')\n",
    "ax1.plot(x,z,'b-',label = 'Test')\n",
    "ax1.set_xlabel('Folds of cross validation',size = 15)\n",
    "ax1.set_ylabel('R^2', size = 15)\n",
    "ax1.legend(loc = 'upper right')\n",
    "\n",
    "ax2.plot(x, y1,'r-', label = 'Train')\n",
    "ax2.plot(x,z1,'b-', label = 'Test')\n",
    "ax2.set_xlabel('Folds of cross validation', size = 15)\n",
    "ax2.set_ylabel('Mean squared Error', size = 15)\n",
    "ax2.legend(loc = 'upper right')"
   ]
  },
  {
   "cell_type": "code",
   "execution_count": null,
   "metadata": {
    "collapsed": false
   },
   "outputs": [],
   "source": [
    "os.chdir('E:\\Academics\\Research\\Data\\Experimental data\\Compression_test\\Analysis\\Combo_validation')\n",
    "fig.savefig('120Samples_cross-validation.jpeg')"
   ]
  },
  {
   "cell_type": "code",
   "execution_count": null,
   "metadata": {
    "collapsed": true
   },
   "outputs": [],
   "source": []
  }
 ],
 "metadata": {
  "kernelspec": {
   "display_name": "Python 2",
   "language": "python",
   "name": "python2"
  },
  "language_info": {
   "codemirror_mode": {
    "name": "ipython",
    "version": 2
   },
   "file_extension": ".py",
   "mimetype": "text/x-python",
   "name": "python",
   "nbconvert_exporter": "python",
   "pygments_lexer": "ipython2",
   "version": "2.7.13"
  }
 },
 "nbformat": 4,
 "nbformat_minor": 0
}
