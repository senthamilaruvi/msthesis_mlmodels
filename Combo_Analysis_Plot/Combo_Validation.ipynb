{
 "cells": [
  {
   "cell_type": "code",
   "execution_count": 164,
   "metadata": {
    "collapsed": true
   },
   "outputs": [],
   "source": [
    "# %matplotlib inline"
   ]
  },
  {
   "cell_type": "code",
   "execution_count": 165,
   "metadata": {
    "collapsed": false
   },
   "outputs": [],
   "source": [
    "import pandas as pd\n",
    "import numpy as np\n",
    "import matplotlib.pyplot as plt\n",
    "import os\n",
    "import Combo_Functions as cf\n",
    "import combo\n",
    "import math \n",
    "import itertools\n",
    "import sys\n",
    "from sklearn.metrics import r2_score\n",
    "from sklearn.metrics import mean_squared_error\n"
   ]
  },
  {
   "cell_type": "code",
   "execution_count": 185,
   "metadata": {
    "collapsed": false
   },
   "outputs": [],
   "source": [
    "#Import Data\n",
    "os.chdir('E:\\Academics\\Research\\Data\\Experimental data\\Compression_test\\Analysis\\Input\\As_Built')\n",
    "Master_Data = pd.read_csv('Input_Data.csv').dropna()\n"
   ]
  },
  {
   "cell_type": "code",
   "execution_count": 167,
   "metadata": {
    "collapsed": true
   },
   "outputs": [],
   "source": [
    "# Input and output columns in Dataframe\n",
    "Input = ['X','Y','X2','Y2','Theta','Phi','XY','Cos_Theta','Cos_Phi','Cos2_Theta','Cos2_Phi','Sin2_Theta','Sin2_Phi','Max_Pore_Diameter']\n",
    "# Input = ['Theta','Phi']\n",
    "Properties = ['Yield','Modulus','Ultimate','Ductility']\n",
    "Output = Properties[3]"
   ]
  },
  {
   "cell_type": "code",
   "execution_count": 168,
   "metadata": {
    "collapsed": false
   },
   "outputs": [],
   "source": [
    "# Normalization of data\n",
    "full = []\n",
    "full.extend(Input)\n",
    "full.extend(Properties)\n",
    "Parsed_Data = Master_Data[full]\n",
    "Parsed_Data = Parsed_Data[Parsed_Data['Phi']==45]"
   ]
  },
  {
   "cell_type": "code",
   "execution_count": 169,
   "metadata": {
    "collapsed": true
   },
   "outputs": [],
   "source": [
    "IO = ['X','Y','Theta',Output]\n",
    "Parsed_Data = Parsed_Data[IO]"
   ]
  },
  {
   "cell_type": "code",
   "execution_count": null,
   "metadata": {
    "collapsed": true
   },
   "outputs": [],
   "source": [
    "c = Parsed_Data['Y'].max()\n",
    "Y_transform = []\n",
    "for a in Parsed_Data['Y']:\n",
    "    if a <= c/2:\n",
    "        b = a - (c/4)\n",
    "    elif a > c/2:\n",
    "        b = (3*c/4) - a\n",
    "    Y_transform.append(b)"
   ]
  },
  {
   "cell_type": "code",
   "execution_count": null,
   "metadata": {
    "collapsed": true
   },
   "outputs": [],
   "source": [
    "Y_transform_norm = Y_transform/(np.max(Y_transform))"
   ]
  },
  {
   "cell_type": "code",
   "execution_count": 170,
   "metadata": {
    "collapsed": true
   },
   "outputs": [],
   "source": [
    "Normalized_Data = (Parsed_Data-Parsed_Data.min())/(Parsed_Data.max()-Parsed_Data.min())\n",
    "Normalized_Data = Normalized_Data.dropna()"
   ]
  },
  {
   "cell_type": "code",
   "execution_count": null,
   "metadata": {
    "collapsed": true
   },
   "outputs": [],
   "source": [
    "Normalized_Data['Y_transform']= Y_transform_norm"
   ]
  },
  {
   "cell_type": "code",
   "execution_count": 171,
   "metadata": {
    "collapsed": false
   },
   "outputs": [],
   "source": [
    "# Name Input and target values\n",
    "X = Normalized_Data[new_input].values\n",
    "y = Normalized_Data[Output].values"
   ]
  },
  {
   "cell_type": "code",
   "execution_count": 173,
   "metadata": {
    "collapsed": true
   },
   "outputs": [],
   "source": [
    "Data = np.column_stack((X,y))"
   ]
  },
  {
   "cell_type": "code",
   "execution_count": 174,
   "metadata": {
    "collapsed": false
   },
   "outputs": [],
   "source": [
    "stdX  = np.std( Data, 0 )\n",
    "index = np.where(stdX !=0)\n",
    "meanX = np.mean(Data[:,index[0]],0)"
   ]
  },
  {
   "cell_type": "code",
   "execution_count": 175,
   "metadata": {
    "collapsed": true
   },
   "outputs": [],
   "source": [
    "Data = combo.misc.centering(Data)"
   ]
  },
  {
   "cell_type": "code",
   "execution_count": 176,
   "metadata": {
    "collapsed": false
   },
   "outputs": [],
   "source": [
    "L = len(Data)\n",
    "b = np.arange(L)\n",
    "print \"Original:\", b\n"
   ]
  },
  {
   "cell_type": "code",
   "execution_count": 177,
   "metadata": {
    "collapsed": true
   },
   "outputs": [],
   "source": [
    "#Generate divisors of a number\n",
    "def divisorGenerator(n):\n",
    "    large_divisors = []\n",
    "    for i in xrange(1, int(math.sqrt(n) + 1)):\n",
    "        if n % i == 0:\n",
    "            yield i\n",
    "            if i*i != n:\n",
    "                large_divisors.append(n / i)\n",
    "    for divisor in reversed(large_divisors):\n",
    "        yield divisor"
   ]
  },
  {
   "cell_type": "code",
   "execution_count": 178,
   "metadata": {
    "collapsed": true
   },
   "outputs": [],
   "source": [
    "def blockPrint():\n",
    "    sys.stdout = open(os.devnull, 'w')\n",
    "\n",
    "# Restore\n",
    "def enablePrint():\n",
    "    sys.stdout = sys.__stdout__"
   ]
  },
  {
   "cell_type": "code",
   "execution_count": 179,
   "metadata": {
    "collapsed": false
   },
   "outputs": [
    {
     "data": {
      "text/plain": [
       "[2, 4, 7, 8, 14, 28]"
      ]
     },
     "execution_count": 179,
     "metadata": {},
     "output_type": "execute_result"
    }
   ],
   "source": [
    "# List all possible values of N\n",
    "N = list(divisorGenerator(L))\n",
    "N = N[1:-1]\n",
    "N"
   ]
  },
  {
   "cell_type": "code",
   "execution_count": 180,
   "metadata": {
    "collapsed": true
   },
   "outputs": [],
   "source": [
    "class Iteration(object):\n",
    "    pass"
   ]
  },
  {
   "cell_type": "code",
   "execution_count": 181,
   "metadata": {
    "collapsed": true
   },
   "outputs": [],
   "source": [
    "Train_R2 = []\n",
    "Test_R2 = []\n",
    "\n",
    "Train_Error = []\n",
    "Test_Error = []"
   ]
  },
  {
   "cell_type": "code",
   "execution_count": 182,
   "metadata": {
    "collapsed": false
   },
   "outputs": [],
   "source": [
    "np.random.shuffle(b)\n",
    "for n in N:\n",
    "    subs = np.array(np.split(b, n))\n",
    "    iterations = []\n",
    "    for i in range(n):\n",
    "        iteration = Iteration()\n",
    "        # which step in the N-fold cross validation (which is test, which is train)\n",
    "        j = range(n)\n",
    "        del j[i]\n",
    "        training_indices = np.concatenate(subs[j])\n",
    "        testing_indices = subs[i]\n",
    "\n",
    "        # create data subsets\n",
    "        iteration.train = Data[training_indices]\n",
    "        iteration.test = Data[testing_indices]\n",
    "\n",
    "        # Train and Predict the results\n",
    "        blockPrint()\n",
    "        Train_predict = cf.Validate(Data[training_indices], Data[training_indices])\n",
    "        Test_predict = cf.Validate(Data[training_indices],Data[testing_indices]) # test_predict\n",
    "        Data_actual = Data[:,-1][testing_indices]\n",
    "        Data_train = Data[:,-1][training_indices]\n",
    "\n",
    "\n",
    "        # Decentering the Data\n",
    "        Test_predict = Test_predict*stdX[-1]+meanX[-1]\n",
    "        Train_predict = Train_predict*stdX[-1]+meanX[-1]\n",
    "        Data_actual = Data_actual*stdX[-1]+meanX[-1]\n",
    "        Data_train = Data_train*stdX[-1]+meanX[-1]\n",
    "\n",
    "        # test your model\n",
    "        r_test = r2_score(Data_actual,Test_predict)\n",
    "        r_train = r2_score(Data_train,Train_predict)\n",
    "        \n",
    "        iteration.predict_test = Test_predict\n",
    "        iteration.predict_train = Train_predict\n",
    "        \n",
    "        iteration.actual = Data_actual\n",
    "        iteration.train = Data_train\n",
    "        \n",
    "        iteration.r_train = r_train\n",
    "        iteration.r_test = r_test\n",
    "        \n",
    "        iteration.er_test = np.sqrt(mean_squared_error(Data_actual,Test_predict,multioutput = 'uniform_average'))\n",
    "        iteration.er_train = np.sqrt(mean_squared_error(Data_train,Train_predict,multioutput = 'uniform_average'))\n",
    "\n",
    "        # save the results (error in the testing data, error in the training data, etc.)\n",
    "        iterations.append(iteration)\n",
    "    \n",
    "        \n",
    "    R2_train = np.array([it.r_train for it in iterations])\n",
    "    R2_test = np.array([it.r_test for it in iterations])\n",
    "    R2_train_avg = R2_train.mean()\n",
    "    R2_test_avg = R2_test.mean()\n",
    "     \n",
    "    error_train = np.array([it.er_train for it in iterations])\n",
    "    error_test = np.array([it.er_test for it in iterations])\n",
    "    error_train_avg = error_train.mean()\n",
    "    error_test_avg = error_test.mean()\n",
    "    \n",
    "    Train_R2.append(R2_train_avg )\n",
    "    Test_R2.append(R2_test_avg)\n",
    "    Train_Error.append(error_train_avg)\n",
    "    Test_Error.append(error_test_avg)\n",
    "    "
   ]
  },
  {
   "cell_type": "code",
   "execution_count": 183,
   "metadata": {
    "collapsed": false,
    "scrolled": true
   },
   "outputs": [
    {
     "data": {
      "text/plain": [
       "<matplotlib.legend.Legend at 0xe1d2ef0>"
      ]
     },
     "execution_count": 183,
     "metadata": {},
     "output_type": "execute_result"
    },
    {
     "data": {
      "image/png": "[encoded data removed]",
      "text/plain": [
       "<matplotlib.figure.Figure at 0xe1c7978>"
      ]
     },
     "metadata": {},
     "output_type": "display_data"
    }
   ],
   "source": [
    "# plot your results\n",
    "fig = plt.figure(figsize=(16,9))\n",
    "ax1 = fig.add_subplot(121)\n",
    "ax2 = fig.add_subplot(122)\n",
    "\n",
    "x = N\n",
    "y = Train_R2\n",
    "z = Test_R2\n",
    "\n",
    "y1 = Train_Error\n",
    "z1 = Test_Error\n",
    "\n",
    "ax1.plot(x, y,'r-',label = 'Train')\n",
    "ax1.plot(x,z,'b-',label = 'Test')\n",
    "ax1.set_xlabel('Folds of cross validation',size = 15)\n",
    "ax1.set_ylabel('R^2', size = 15)\n",
    "ax1.legend(loc = 'upper right')\n",
    "\n",
    "ax2.plot(x, y1,'r-', label = 'Train')\n",
    "ax2.plot(x,z1,'b-', label = 'Test')\n",
    "ax2.set_xlabel('Folds of cross validation', size = 15)\n",
    "ax2.set_ylabel('Mean squared Error', size = 15)\n",
    "ax2.legend(loc = 'upper right')"
   ]
  },
  {
   "cell_type": "code",
   "execution_count": 184,
   "metadata": {
    "collapsed": false
   },
   "outputs": [],
   "source": [
    "os.chdir('E:\\Academics\\Research\\Data\\Experimental data\\Compression_test\\Analysis\\Combo_validation')\n",
    "fig.savefig('120Samples_cross-validation.jpeg')"
   ]
  },
  {
   "cell_type": "code",
   "execution_count": null,
   "metadata": {
    "collapsed": true
   },
   "outputs": [],
   "source": []
  }
 ],
 "metadata": {
  "kernelspec": {
   "display_name": "Python 2",
   "language": "python",
   "name": "python2"
  },
  "language_info": {
   "codemirror_mode": {
    "name": "ipython",
    "version": 2
   },
   "file_extension": ".py",
   "mimetype": "text/x-python",
   "name": "python",
   "nbconvert_exporter": "python",
   "pygments_lexer": "ipython2",
   "version": "2.7.13"
  }
 },
 "nbformat": 4,
 "nbformat_minor": 0
}
