{
 "cells": [
  {
   "cell_type": "code",
   "execution_count": 14,
   "metadata": {
    "collapsed": true
   },
   "outputs": [],
   "source": [
    "# %matplotlib notebook"
   ]
  },
  {
   "cell_type": "code",
   "execution_count": 15,
   "metadata": {
    "collapsed": false
   },
   "outputs": [],
   "source": [
    "import os\n",
    "import pandas as pd\n",
    "from sklearn.manifold import TSNE\n",
    "import numpy as np\n",
    "import matplotlib.pyplot as plt"
   ]
  },
  {
   "cell_type": "code",
   "execution_count": 16,
   "metadata": {
    "collapsed": true
   },
   "outputs": [],
   "source": [
    "os.chdir('E:\\Academics\\Research\\Data\\Experimental data\\Compression_test\\Results\\As_Built')"
   ]
  },
  {
   "cell_type": "code",
   "execution_count": 17,
   "metadata": {
    "collapsed": false
   },
   "outputs": [
    {
     "data": {
      "text/plain": [
       "['Name',\n",
       " 'Number',\n",
       " 'X',\n",
       " 'Y',\n",
       " 'Theta',\n",
       " 'Phi',\n",
       " 'Porosity_Fraction',\n",
       " 'Max_Pore_Diameter',\n",
       " 'Mean_Pore_Diameter',\n",
       " 'Median_Pore_Diameter',\n",
       " 'Yield',\n",
       " 'Modulus']"
      ]
     },
     "execution_count": 17,
     "metadata": {},
     "output_type": "execute_result"
    }
   ],
   "source": [
    "Master_Data = pd.read_csv('Data_As_Built_New.csv').dropna()\n",
    "list(Master_Data)"
   ]
  },
  {
   "cell_type": "code",
   "execution_count": 18,
   "metadata": {
    "collapsed": true
   },
   "outputs": [],
   "source": [
    "Master_Data1 = Master_Data[Master_Data['Phi'] == 0]\n",
    "Master_Data2 = Master_Data[Master_Data['Phi'] == 45]\n",
    "Master_Data3 = Master_Data[Master_Data['Phi'] == 90]"
   ]
  },
  {
   "cell_type": "code",
   "execution_count": 19,
   "metadata": {
    "collapsed": false
   },
   "outputs": [],
   "source": [
    "new_input = ['X','Y','Theta','Phi']\n",
    "# new_input = ['X','Y','Theta']\n",
    "#new_input = ['Theta','Phi']"
   ]
  },
  {
   "cell_type": "code",
   "execution_count": 20,
   "metadata": {
    "collapsed": false
   },
   "outputs": [],
   "source": [
    "A = Master_Data[new_input]\n",
    "\n",
    "A_Norm = (A-A.min())/(A.max()-A.min())\n"
   ]
  },
  {
   "cell_type": "code",
   "execution_count": 21,
   "metadata": {
    "collapsed": true
   },
   "outputs": [],
   "source": [
    "B = TSNE(n_components=2).fit_transform(A_Norm.values)"
   ]
  },
  {
   "cell_type": "code",
   "execution_count": 22,
   "metadata": {
    "collapsed": false
   },
   "outputs": [],
   "source": [
    "# tsne plot\n",
    "xs = []\n",
    "ys = []\n",
    "zs = []\n",
    "for i in B:\n",
    "    xs.append(i[0])\n",
    "    ys.append(i[1])\n",
    "    \n",
    "ms = Master_Data['Modulus'].values\n",
    "ms1 = Master_Data1['Modulus'].values\n",
    "ms2 = Master_Data2['Modulus'].values\n",
    "ms3 = Master_Data3['Modulus'].values\n",
    "# Location plot\n",
    "x1 = Master_Data1['X']\n",
    "y1 = Master_Data1['Y']\n",
    "\n",
    "x2 = Master_Data2['X']\n",
    "y2 = Master_Data2['Y']\n",
    "\n",
    "x3 = Master_Data3['X']\n",
    "y3 = Master_Data3['Y']"
   ]
  },
  {
   "cell_type": "code",
   "execution_count": 23,
   "metadata": {
    "collapsed": false
   },
   "outputs": [],
   "source": [
    "xs = np.array(xs)\n",
    "ys = np.array(ys)\n",
    "\n",
    "x1 = np.array(x1)\n",
    "y1 = np.array(y1)\n",
    "\n",
    "x2 = np.array(x2)\n",
    "y2 = np.array(y2)\n",
    "\n",
    "x3 = np.array(x3)\n",
    "y3 = np.array(y3)\n"
   ]
  },
  {
   "cell_type": "code",
   "execution_count": 24,
   "metadata": {
    "collapsed": false,
    "scrolled": true
   },
   "outputs": [],
   "source": [
    "# import matplotlib.pyplot as plt\n",
    "# from mpl_toolkits.mplot3d import Axes3D\n",
    "\n",
    "\n",
    "# im = plt.scatter(xs, ys, s= 90, c =ms)\n",
    "\n",
    "\n",
    "# # plt.xlabel('X(mm)')\n",
    "# # plt.ylabel('Y(mm)')\n",
    "# # plt.xlim([0,250])\n",
    "# # plt.ylim([0,250])\n",
    "# plt.title('tsne plot')\n",
    "# plt.colorbar(im)\n",
    "\n",
    "# plt.show()"
   ]
  },
  {
   "cell_type": "code",
   "execution_count": 25,
   "metadata": {
    "collapsed": false
   },
   "outputs": [
    {
     "data": {
      "text/plain": [
       "<matplotlib.text.Text at 0x19e46f98>"
      ]
     },
     "execution_count": 25,
     "metadata": {},
     "output_type": "execute_result"
    }
   ],
   "source": [
    "fig = plt.figure(figsize = (10,10))\n",
    "\n",
    "ax1 = fig.add_subplot(221)\n",
    "ax1.scatter(xs,ys, s= 90, c = ms)\n",
    "ax1.set_xlim([-200,200])\n",
    "ax1.set_ylim([-200,200])\n",
    "ax1.set_title('tsne plot')\n",
    "\n",
    "ax2 = fig.add_subplot(222)\n",
    "ax2.scatter(x1,y1, s= 90, c = ms1)\n",
    "ax2.set_title('$\\phi$ = 0')\n",
    "ax2.set_xlabel( 'X(mm)')\n",
    "ax2.set_ylabel( 'Y(mm)')\n",
    "\n",
    "ax3 = fig.add_subplot(223)\n",
    "ax3.scatter(x2,y2, s= 90, c = ms2)\n",
    "ax3.set_title('$\\phi$ = 45')\n",
    "ax3.set_xlabel( 'X(mm)')\n",
    "ax3.set_ylabel( 'Y(mm)')\n",
    "\n",
    "\n",
    "ax4 = fig.add_subplot(224)\n",
    "ax4.scatter(x3,y3, s= 90, c = ms3)\n",
    "ax4.set_title('$\\phi$ = 90')\n",
    "ax4.set_xlabel( 'X(mm)')\n",
    "ax4.set_ylabel( 'Y(mm)')\n"
   ]
  },
  {
   "cell_type": "code",
   "execution_count": 26,
   "metadata": {
    "collapsed": false
   },
   "outputs": [],
   "source": [
    "fig.savefig('E:\\\\Academics\\Research\\\\Data\\\\Experimental data\\\\Compression_test\\\\Plots\\\\Machine_Learning\\\\tsne.jpeg')"
   ]
  },
  {
   "cell_type": "code",
   "execution_count": null,
   "metadata": {
    "collapsed": true
   },
   "outputs": [],
   "source": []
  }
 ],
 "metadata": {
  "kernelspec": {
   "display_name": "Python 2",
   "language": "python",
   "name": "python2"
  },
  "language_info": {
   "codemirror_mode": {
    "name": "ipython",
    "version": 2
   },
   "file_extension": ".py",
   "mimetype": "text/x-python",
   "name": "python",
   "nbconvert_exporter": "python",
   "pygments_lexer": "ipython2",
   "version": "2.7.13"
  }
 },
 "nbformat": 4,
 "nbformat_minor": 0
}
