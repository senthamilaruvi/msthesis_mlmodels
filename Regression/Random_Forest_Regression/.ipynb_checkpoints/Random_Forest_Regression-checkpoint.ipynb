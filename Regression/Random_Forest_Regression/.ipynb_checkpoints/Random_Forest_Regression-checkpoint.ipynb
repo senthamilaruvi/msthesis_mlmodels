{
 "cells": [
  {
   "cell_type": "code",
   "execution_count": 14,
   "metadata": {
    "collapsed": true
   },
   "outputs": [],
   "source": [
    "%matplotlib inline"
   ]
  },
  {
   "cell_type": "code",
   "execution_count": 15,
   "metadata": {
    "collapsed": true
   },
   "outputs": [],
   "source": [
    "import numpy as np\n",
    "import pandas as pd\n",
    "import os\n",
    "import sys\n",
    "import math\n",
    "from sklearn.ensemble import RandomForestRegressor\n",
    "from sklearn import preprocessing as pp\n",
    "import matplotlib.pyplot as plt\n",
    "from sklearn.metrics import mean_squared_error"
   ]
  },
  {
   "cell_type": "code",
   "execution_count": 16,
   "metadata": {
    "collapsed": true
   },
   "outputs": [],
   "source": [
    "# Importing Data\n",
    "os.chdir('E:\\Academics\\Research\\Data\\Experimental data\\Compression_test\\Analysis\\Input')\n",
    "Raw_Data = pd.read_csv('Yield_Iteration2.csv')\n"
   ]
  },
  {
   "cell_type": "code",
   "execution_count": 17,
   "metadata": {
    "collapsed": true
   },
   "outputs": [],
   "source": [
    "#Properties\n",
    "Properties = ['Youngs_Modulus', 'Yield_Strength','Ultimate_Strength','Ductility']\n",
    "Property = Properties[1]"
   ]
  },
  {
   "cell_type": "code",
   "execution_count": 18,
   "metadata": {
    "collapsed": true
   },
   "outputs": [],
   "source": [
    "#Converting pandas to numpy array\n",
    "Data = Raw_Data[Raw_Data[Property].notnull()]\n",
    "Data = Data.values"
   ]
  },
  {
   "cell_type": "code",
   "execution_count": 19,
   "metadata": {
    "collapsed": true
   },
   "outputs": [],
   "source": [
    "#Calculate mean\n",
    "X = Data[:,0:-1]\n",
    "Y = Data[:,-1]\n",
    "X_mean = X.mean(axis = 0)\n",
    "X_std = X.std(axis = 0)\n",
    "Y_mean = Y.mean()\n",
    "Y_std = Y.std(axis = 0)"
   ]
  },
  {
   "cell_type": "code",
   "execution_count": 20,
   "metadata": {
    "collapsed": true
   },
   "outputs": [],
   "source": [
    "#Scale Data\n",
    "X = pp.scale(X)\n",
    "Y = pp.scale(Y)"
   ]
  },
  {
   "cell_type": "code",
   "execution_count": 21,
   "metadata": {
    "collapsed": false
   },
   "outputs": [
    {
     "name": "stdout",
     "output_type": "stream",
     "text": [
      "Original: [ 0  1  2  3  4  5  6  7  8  9 10 11 12 13 14 15 16 17 18 19 20 21 22 23 24\n",
      " 25 26 27 28 29 30 31 32 33 34 35 36 37 38 39]\n"
     ]
    }
   ],
   "source": [
    "b = np.arange(len(Data))\n",
    "print \"Original:\", b"
   ]
  },
  {
   "cell_type": "code",
   "execution_count": 22,
   "metadata": {
    "collapsed": true
   },
   "outputs": [],
   "source": [
    "#Generate divisors of a number\n",
    "def divisorGenerator(n):\n",
    "    large_divisors = []\n",
    "    for i in xrange(1, int(math.sqrt(n) + 1)):\n",
    "        if n % i == 0:\n",
    "            yield i\n",
    "            if i*i != n:\n",
    "                large_divisors.append(n / i)\n",
    "    for divisor in reversed(large_divisors):\n",
    "        yield divisor"
   ]
  },
  {
   "cell_type": "code",
   "execution_count": 23,
   "metadata": {
    "collapsed": false
   },
   "outputs": [
    {
     "data": {
      "text/plain": [
       "[2, 4, 5, 8, 10, 20]"
      ]
     },
     "execution_count": 23,
     "metadata": {},
     "output_type": "execute_result"
    }
   ],
   "source": [
    "#List all possible values of N\n",
    "L = len(Data)\n",
    "N = list(divisorGenerator(L))\n",
    "N = N[1:-1]\n",
    "N"
   ]
  },
  {
   "cell_type": "code",
   "execution_count": 24,
   "metadata": {
    "collapsed": true
   },
   "outputs": [],
   "source": [
    "class Iteration(object):\n",
    "    pass"
   ]
  },
  {
   "cell_type": "code",
   "execution_count": 25,
   "metadata": {
    "collapsed": true
   },
   "outputs": [],
   "source": [
    "Train_error= []\n",
    "Test_error = []"
   ]
  },
  {
   "cell_type": "code",
   "execution_count": 26,
   "metadata": {
    "collapsed": false
   },
   "outputs": [
    {
     "name": "stdout",
     "output_type": "stream",
     "text": [
      "2\n",
      "4\n",
      "5\n",
      "8\n",
      "10\n",
      "20\n"
     ]
    }
   ],
   "source": [
    "np.random.shuffle(b)\n",
    "for n in N:\n",
    "    print n\n",
    "    subs = np.array(np.split(b[:L], n))\n",
    "    iterations = []\n",
    "    for i in range(n):\n",
    "        iteration = Iteration()\n",
    "        # which step in the N-fold cross validation (which is test, which is train)\n",
    "        j = range(n)\n",
    "        del j[i]\n",
    "        training_indices = np.concatenate(subs[j])\n",
    "        testing_indices = subs[i]\n",
    "\n",
    "        # create data subsets\n",
    "        iteration.X_train = X[training_indices]\n",
    "        iteration.X_test = X[testing_indices]\n",
    "        iteration.Y_train = Y[training_indices]\n",
    "        iteration.Y_test = Y[testing_indices]\n",
    "        \n",
    "        X_train = X[training_indices]\n",
    "        X_test = X[testing_indices]\n",
    "        Y_train = Y[training_indices]\n",
    "        Y_test = Y[testing_indices]\n",
    "        \n",
    "        # Fit regression model and predict the output\n",
    "        regressor = RandomForestRegressor(n_estimators = 20, random_state = 0)\n",
    "        Y_train_predict = regressor.fit(X_train, Y_train).predict(X_train)\n",
    "        Y_test_predict = regressor.fit(X_train, Y_train).predict(X_test)\n",
    "        \n",
    "        #Decentering the data\n",
    "        \n",
    "        Y_train_predict = Y_train_predict*Y_std + Y_mean\n",
    "        Y_test_predict = Y_test_predict*Y_std + Y_mean\n",
    "        \n",
    "        Y_train = Y_train*Y_std +Y_mean\n",
    "        Y_test = Y_test*Y_std+Y_mean\n",
    "        \n",
    "        #Save the results\n",
    "        iteration.Y_test = Y_test\n",
    "        iteration.Y_train = Y_train\n",
    "        iteration.Y_train_predict = Y_train_predict\n",
    "        iteration.Y_test_predict = Y_test_predict\n",
    "        \n",
    "        #test the model\n",
    "        iteration.er_train  = np.sqrt(mean_squared_error(Y_train,Y_train_predict,multioutput = 'uniform_average'))\n",
    "        iteration.er_test  = np.sqrt(mean_squared_error(Y_test,Y_test_predict,multioutput = 'uniform_average'))\n",
    "        \n",
    "        # save the results (error in the testing data, error in the training data, etc.)\n",
    "        iterations.append(iteration)\n",
    "        \n",
    "    error_Y_train = np.array([it.er_train for it in iterations])\n",
    "    error_Y_test = np.array([it.er_test for it in iterations])\n",
    "    \n",
    "    error_avg_Y_train = error_Y_train.mean()\n",
    "    error_avg_Y_test = error_Y_test.mean()\n",
    "    \n",
    "    Train_error.append(error_avg_Y_train)\n",
    "    Test_error.append(error_avg_Y_test)\n",
    "        "
   ]
  },
  {
   "cell_type": "code",
   "execution_count": 27,
   "metadata": {
    "collapsed": false
   },
   "outputs": [
    {
     "data": {
      "image/png": "[encoded data removed]",
      "text/plain": [
       "<matplotlib.figure.Figure at 0xb8e6b00>"
      ]
     },
     "metadata": {},
     "output_type": "display_data"
    }
   ],
   "source": [
    "x = N\n",
    "y = Train_error\n",
    "z = Test_error\n",
    "\n",
    "plt.plot(x,y,'r-',label = 'train')\n",
    "plt.plot(x,z,'b-', label = 'test')\n",
    "plt.xlabel('N')\n",
    "plt.ylabel('Mean Squared Error')\n",
    "\n",
    "plt.legend()\n",
    "\n",
    "plt.show()"
   ]
  },
  {
   "cell_type": "code",
   "execution_count": null,
   "metadata": {
    "collapsed": true
   },
   "outputs": [],
   "source": []
  }
 ],
 "metadata": {
  "kernelspec": {
   "display_name": "Python 2",
   "language": "python",
   "name": "python2"
  },
  "language_info": {
   "codemirror_mode": {
    "name": "ipython",
    "version": 2
   },
   "file_extension": ".py",
   "mimetype": "text/x-python",
   "name": "python",
   "nbconvert_exporter": "python",
   "pygments_lexer": "ipython2",
   "version": "2.7.13"
  }
 },
 "nbformat": 4,
 "nbformat_minor": 0
}
