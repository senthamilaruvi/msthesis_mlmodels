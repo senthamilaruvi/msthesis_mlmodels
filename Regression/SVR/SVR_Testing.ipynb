{
 "cells": [
  {
   "cell_type": "code",
   "execution_count": 247,
   "metadata": {
    "collapsed": true
   },
   "outputs": [],
   "source": [
    "%matplotlib inline"
   ]
  },
  {
   "cell_type": "code",
   "execution_count": 248,
   "metadata": {
    "collapsed": false
   },
   "outputs": [],
   "source": [
    "import numpy as np\n",
    "import pandas as pd\n",
    "import os\n",
    "import sys\n",
    "import math\n",
    "from sklearn.svm import SVR\n",
    "from sklearn import preprocessing as pp\n",
    "import matplotlib.pyplot as plt\n",
    "from sklearn.metrics import mean_squared_error\n",
    "from sklearn.metrics import r2_score\n",
    "from sklearn.model_selection import cross_val_score"
   ]
  },
  {
   "cell_type": "code",
   "execution_count": 249,
   "metadata": {
    "collapsed": false
   },
   "outputs": [],
   "source": [
    "# Importing Data\n",
    "os.chdir('E:\\Academics\\Research\\Data\\Experimental data\\Compression_test\\Analysis\\Input')\n",
    "Raw_Data = pd.read_csv('Trial1.csv')\n"
   ]
  },
  {
   "cell_type": "code",
   "execution_count": 250,
   "metadata": {
    "collapsed": true
   },
   "outputs": [],
   "source": [
    "#Properties\n",
    "Properties = ['Youngs_Modulus', 'Yield_Strength','Ultimate_Strength','Ductility']\n",
    "Property = Properties[1]"
   ]
  },
  {
   "cell_type": "code",
   "execution_count": 251,
   "metadata": {
    "collapsed": false
   },
   "outputs": [],
   "source": [
    "#Converting pandas to numpy array\n",
    "Data = Raw_Data[Raw_Data[Property].notnull()]\n",
    "Data = Data.values"
   ]
  },
  {
   "cell_type": "code",
   "execution_count": 252,
   "metadata": {
    "collapsed": true
   },
   "outputs": [],
   "source": [
    "#Calculate mean\n",
    "X = Data[:,0:-1]\n",
    "Y = Data[:,-1]\n",
    "X_mean = X.mean(axis = 0)\n",
    "X_std = X.std(axis = 0)\n",
    "Y_mean = Y.mean()\n",
    "Y_std = Y.std(axis = 0)"
   ]
  },
  {
   "cell_type": "code",
   "execution_count": 253,
   "metadata": {
    "collapsed": true
   },
   "outputs": [],
   "source": [
    "#Scale Data\n",
    "X = pp.scale(X)\n",
    "Y = pp.scale(Y)"
   ]
  },
  {
   "cell_type": "code",
   "execution_count": 254,
   "metadata": {
    "collapsed": false
   },
   "outputs": [
    {
     "name": "stdout",
     "output_type": "stream",
     "text": [
      "Original: [ 0  1  2  3  4  5  6  7  8  9 10 11 12 13 14 15 16 17 18 19 20 21 22 23 24\n",
      " 25 26 27 28 29 30 31 32 33 34 35 36 37 38 39]\n"
     ]
    }
   ],
   "source": [
    "b = np.arange(len(Data))\n",
    "print \"Original:\", b"
   ]
  },
  {
   "cell_type": "code",
   "execution_count": 255,
   "metadata": {
    "collapsed": true
   },
   "outputs": [],
   "source": [
    "#Generate divisors of a number\n",
    "def divisorGenerator(n):\n",
    "    large_divisors = []\n",
    "    for i in xrange(1, int(math.sqrt(n) + 1)):\n",
    "        if n % i == 0:\n",
    "            yield i\n",
    "            if i*i != n:\n",
    "                large_divisors.append(n / i)\n",
    "    for divisor in reversed(large_divisors):\n",
    "        yield divisor"
   ]
  },
  {
   "cell_type": "code",
   "execution_count": 256,
   "metadata": {
    "collapsed": false
   },
   "outputs": [
    {
     "data": {
      "text/plain": [
       "[2, 4, 5, 8, 10, 20]"
      ]
     },
     "execution_count": 256,
     "metadata": {},
     "output_type": "execute_result"
    }
   ],
   "source": [
    "#List all possible values of N\n",
    "L = len(Data)\n",
    "N = list(divisorGenerator(L))\n",
    "N = N[1:-1]\n",
    "N"
   ]
  },
  {
   "cell_type": "code",
   "execution_count": 257,
   "metadata": {
    "collapsed": true
   },
   "outputs": [],
   "source": [
    "class Iteration(object):\n",
    "    pass"
   ]
  },
  {
   "cell_type": "code",
   "execution_count": 258,
   "metadata": {
    "collapsed": true
   },
   "outputs": [],
   "source": [
    "poly_train_error = []\n",
    "poly_test_error = []\n",
    "rbf_train_error = []\n",
    "rbf_test_error = []\n",
    "\n",
    "Train_R2 = []\n",
    "Test_R2 = []\n",
    "Score = []\n",
    "Score1 = []"
   ]
  },
  {
   "cell_type": "code",
   "execution_count": 259,
   "metadata": {
    "collapsed": false
   },
   "outputs": [
    {
     "name": "stdout",
     "output_type": "stream",
     "text": [
      "2\n",
      "4\n",
      "5\n",
      "8\n",
      "10\n",
      "20\n"
     ]
    }
   ],
   "source": [
    "np.random.shuffle(b)\n",
    "for n in N:\n",
    "    print n\n",
    "    subs = np.array(np.split(b[:L], n))\n",
    "    iterations = []\n",
    "    for i in range(n):\n",
    "        iteration = Iteration()\n",
    "        # which step in the N-fold cross validation (which is test, which is train)\n",
    "        j = range(n)\n",
    "        del j[i]\n",
    "        training_indices = np.concatenate(subs[j])\n",
    "        testing_indices = subs[i]\n",
    "\n",
    "        # create data subsets\n",
    "        iteration.X_train = X[training_indices]\n",
    "        iteration.X_test = X[testing_indices]\n",
    "        iteration.Y_train = Y[training_indices]\n",
    "        iteration.Y_actual = Y[testing_indices]\n",
    "        \n",
    "        X_train = X[training_indices]\n",
    "        X_test = X[testing_indices]\n",
    "        Y_train = Y[training_indices]\n",
    "        Y_actual = Y[testing_indices]\n",
    "        \n",
    "\n",
    "        # Fit regression model\n",
    "        svr_rbf = SVR(kernel='rbf', C=1e3, gamma=0.1)\n",
    "        svr_poly = SVR(kernel='poly', C=1e3, degree=3)\n",
    "        \n",
    "        #Predict output for testing and training data\n",
    "        \n",
    "        y_rbf_train = svr_rbf.fit(X_train, Y_train).predict(X_train)\n",
    "        y_poly_train = svr_poly.fit(X_train, Y_train).predict(X_train)\n",
    "        \n",
    "        y_rbf_test = svr_rbf.fit(X_train, Y_train).predict(X_test)\n",
    "        y_poly_test = svr_poly.fit(X_train, Y_train).predict(X_test)\n",
    "\n",
    "        # Decentering the Data\n",
    "        y_rbf_train_predict = y_rbf_train*Y_std + Y_mean\n",
    "        y_poly_train_predict = y_poly_train*Y_std +Y_mean\n",
    "        \n",
    "        y_rbf_test_predict = y_rbf_test*Y_std + Y_mean\n",
    "        y_poly_test_predict = y_poly_test*Y_std +Y_mean\n",
    "        \n",
    "        Y_train = Y_train*Y_std +Y_mean\n",
    "        Y_actual = Y_actual*Y_std+Y_mean\n",
    "\n",
    "        # test your model\n",
    "        \n",
    "        accuracies = cross_val_score(estimator = svr_rbf, X= X_train, y = Y_train, cv = 10 )\n",
    "        accuracies1 = cross_val_score(estimator = svr_rbf, X= X_train, y = Y_train, cv = 10)\n",
    "        score = accuracies.mean()\n",
    "        score1 = accuracies1.mean()\n",
    "        \n",
    "        iteration.predict_train_rbf = y_rbf_train_predict\n",
    "        iteration.predict_train_poly = y_poly_train_predict\n",
    "        \n",
    "        iteration.predict_test_rbf = y_rbf_test_predict\n",
    "        iteration.predict_test_poly = y_poly_test_predict\n",
    "        \n",
    "        iteration.actual = Y_actual\n",
    "        iteration.train = Y_train\n",
    "        \n",
    "        iteration.er_rbf_test = np.sqrt(mean_squared_error(Y_actual,y_rbf_test_predict,multioutput = 'uniform_average'))\n",
    "        iteration.er_poly_test = np.sqrt(mean_squared_error(Y_actual,y_poly_test_predict,multioutput = 'uniform_average'))\n",
    "        iteration.er_rbf_train = np.sqrt(mean_squared_error(Y_train,y_rbf_train_predict,multioutput = 'uniform_average'))\n",
    "        iteration.er_poly_train = np.sqrt(mean_squared_error(Y_train,y_poly_train_predict,multioutput = 'uniform_average'))\n",
    "        \n",
    "        iteration.er_r2_train = r2_score(Y_train, y_rbf_train_predict,multioutput = 'uniform_average')\n",
    "        iteration.er_r2_test = r2_score(Y_actual, y_rbf_test_predict,multioutput = 'uniform_average')\n",
    "\n",
    "        # save the results (error in the testing data, error in the training data, etc.)\n",
    "        iterations.append(iteration)\n",
    "     \n",
    "    error_rbf_train = np.array([it.er_rbf_train for it in iterations])\n",
    "    error_rbf_test = np.array([it.er_rbf_test for it in iterations])\n",
    "    \n",
    "    error_poly_train = np.array([it.er_poly_train for it in iterations])\n",
    "    error_poly_test = np.array([it.er_poly_test for it in iterations])\n",
    "    \n",
    "    er_r2_train = np.array([it.er_r2_train for it in iterations])\n",
    "    er_r2_test = np.array([it.er_r2_test for it in iterations])\n",
    "    \n",
    "    error_rbf_train_avg = error_rbf_train.mean()\n",
    "    error_rbf_test_avg = error_rbf_test.mean()\n",
    "    \n",
    "    error_poly_train_avg = error_poly_train.mean()\n",
    "    error_poly_test_avg = error_poly_test.mean()\n",
    "    \n",
    "    poly_train_error.append(error_poly_train_avg)\n",
    "    poly_test_error.append(error_poly_test_avg )\n",
    "    \n",
    "    rbf_train_error.append(error_rbf_train_avg)\n",
    "    rbf_test_error.append(error_rbf_test_avg)\n",
    "    \n",
    "    Train_R2.append(er_r2_train.mean())\n",
    "    Test_R2.append(er_r2_test.mean())\n",
    "    Score.append(score)\n",
    "    Score1.append(score1)\n",
    "    \n",
    "    \n",
    "\n",
    "    "
   ]
  },
  {
   "cell_type": "code",
   "execution_count": 260,
   "metadata": {
    "collapsed": false
   },
   "outputs": [
    {
     "data": {
      "text/plain": [
       "<matplotlib.legend.Legend at 0x144b39b0>"
      ]
     },
     "execution_count": 260,
     "metadata": {},
     "output_type": "execute_result"
    },
    {
     "data": {
      "image/png": "[encoded data removed]",
      "text/plain": [
       "<matplotlib.figure.Figure at 0x142d9828>"
      ]
     },
     "metadata": {},
     "output_type": "display_data"
    }
   ],
   "source": [
    "# plot your results\n",
    "fig = plt.figure(figsize=(16,9))\n",
    "ax1 = fig.add_subplot(121)\n",
    "ax2 = fig.add_subplot(122)\n",
    "\n",
    "x = N\n",
    "y = poly_train_error\n",
    "z = poly_test_error\n",
    "\n",
    "y1 = rbf_train_error\n",
    "z1 = rbf_test_error\n",
    "\n",
    "ax1.plot(x, y,'r-',label = 'Train')\n",
    "ax1.plot(x,z,'b-',label = 'Test')\n",
    "ax1.set_xlabel('N',size = 15)\n",
    "ax1.set_ylabel('Mean squared Error', size = 15)\n",
    "ax1.set_title('Polynomial Kernel')\n",
    "ax1.legend(loc = 'upper right')\n",
    "\n",
    "ax2.plot(x, y1,'r-', label = 'Train')\n",
    "ax2.plot(x,z1,'b-', label = 'Test')\n",
    "ax2.set_xlabel('N', size = 15)\n",
    "ax2.set_title('RBF Kernel')\n",
    "ax2.set_ylabel('Mean squared Error', size = 15)\n",
    "ax2.legend(loc = 'upper right')"
   ]
  },
  {
   "cell_type": "code",
   "execution_count": 261,
   "metadata": {
    "collapsed": false
   },
   "outputs": [
    {
     "data": {
      "text/plain": [
       "<matplotlib.legend.Legend at 0x14034b00>"
      ]
     },
     "execution_count": 261,
     "metadata": {},
     "output_type": "execute_result"
    },
    {
     "data": {
      "image/png": "[encoded data removed]",
      "text/plain": [
       "<matplotlib.figure.Figure at 0x140343c8>"
      ]
     },
     "metadata": {},
     "output_type": "display_data"
    }
   ],
   "source": [
    "s = Score\n",
    "plt.plot(x,s,'r-',label = 'score')\n",
    "plt.xlabel('N')\n",
    "plt.ylabel('Cross Validation Score')\n",
    "plt.legend()\n"
   ]
  },
  {
   "cell_type": "code",
   "execution_count": 262,
   "metadata": {
    "collapsed": false
   },
   "outputs": [
    {
     "data": {
      "text/plain": [
       "[-1.7633541055188622,\n",
       " -4.7756628281802307,\n",
       " -0.42336329107529169,\n",
       " -0.59684914900525921,\n",
       " -4.3779190930992211,\n",
       " -0.36260095627878597]"
      ]
     },
     "execution_count": 262,
     "metadata": {},
     "output_type": "execute_result"
    }
   ],
   "source": [
    "s"
   ]
  },
  {
   "cell_type": "code",
   "execution_count": null,
   "metadata": {
    "collapsed": true
   },
   "outputs": [],
   "source": []
  }
 ],
 "metadata": {
  "kernelspec": {
   "display_name": "Python 2",
   "language": "python",
   "name": "python2"
  },
  "language_info": {
   "codemirror_mode": {
    "name": "ipython",
    "version": 2
   },
   "file_extension": ".py",
   "mimetype": "text/x-python",
   "name": "python",
   "nbconvert_exporter": "python",
   "pygments_lexer": "ipython2",
   "version": "2.7.13"
  }
 },
 "nbformat": 4,
 "nbformat_minor": 0
}
