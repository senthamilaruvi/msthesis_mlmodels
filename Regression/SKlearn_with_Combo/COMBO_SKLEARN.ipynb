{
 "cells": [
  {
   "cell_type": "code",
   "execution_count": 1,
   "metadata": {
    "collapsed": true
   },
   "outputs": [],
   "source": [
    "%matplotlib inline"
   ]
  },
  {
   "cell_type": "code",
   "execution_count": 2,
   "metadata": {
    "collapsed": true
   },
   "outputs": [],
   "source": [
    "import os\n",
    "import pandas as pd\n",
    "import numpy as np\n",
    "import matplotlib.pyplot as plt\n",
    "import combo\n",
    "from sklearn.metrics import r2_score\n",
    "from sklearn.metrics import mean_squared_error\n",
    "from sklearn.metrics import mean_absolute_error\n",
    "from sklearn import preprocessing as pp\n",
    "from sklearn.model_selection import KFold"
   ]
  },
  {
   "cell_type": "code",
   "execution_count": 3,
   "metadata": {
    "collapsed": false
   },
   "outputs": [
    {
     "data": {
      "text/html": [
       "<div>\n",
       "<table border=\"1\" class=\"dataframe\">\n",
       "  <thead>\n",
       "    <tr style=\"text-align: right;\">\n",
       "      <th></th>\n",
       "      <th>Name_Horizontal</th>\n",
       "      <th>Name_Vertical</th>\n",
       "      <th>X</th>\n",
       "      <th>Y</th>\n",
       "      <th>Theta</th>\n",
       "      <th>Phi</th>\n",
       "      <th>Yield</th>\n",
       "      <th>Modulus</th>\n",
       "      <th>Max_Pore</th>\n",
       "      <th>Pore_Volume_Ratio</th>\n",
       "    </tr>\n",
       "  </thead>\n",
       "  <tbody>\n",
       "    <tr>\n",
       "      <th>0</th>\n",
       "      <td>G</td>\n",
       "      <td>17</td>\n",
       "      <td>184.0</td>\n",
       "      <td>163.5</td>\n",
       "      <td>135</td>\n",
       "      <td>90</td>\n",
       "      <td>829</td>\n",
       "      <td>99</td>\n",
       "      <td>NaN</td>\n",
       "      <td>NaN</td>\n",
       "    </tr>\n",
       "    <tr>\n",
       "      <th>1</th>\n",
       "      <td>G</td>\n",
       "      <td>19</td>\n",
       "      <td>184.0</td>\n",
       "      <td>184.0</td>\n",
       "      <td>180</td>\n",
       "      <td>45</td>\n",
       "      <td>927</td>\n",
       "      <td>199</td>\n",
       "      <td>NaN</td>\n",
       "      <td>NaN</td>\n",
       "    </tr>\n",
       "    <tr>\n",
       "      <th>2</th>\n",
       "      <td>G</td>\n",
       "      <td>20</td>\n",
       "      <td>184.0</td>\n",
       "      <td>193.5</td>\n",
       "      <td>270</td>\n",
       "      <td>45</td>\n",
       "      <td>921</td>\n",
       "      <td>317</td>\n",
       "      <td>NaN</td>\n",
       "      <td>NaN</td>\n",
       "    </tr>\n",
       "    <tr>\n",
       "      <th>3</th>\n",
       "      <td>G</td>\n",
       "      <td>21</td>\n",
       "      <td>184.0</td>\n",
       "      <td>205.0</td>\n",
       "      <td>90</td>\n",
       "      <td>45</td>\n",
       "      <td>821</td>\n",
       "      <td>210</td>\n",
       "      <td>NaN</td>\n",
       "      <td>NaN</td>\n",
       "    </tr>\n",
       "    <tr>\n",
       "      <th>4</th>\n",
       "      <td>G</td>\n",
       "      <td>22</td>\n",
       "      <td>184.0</td>\n",
       "      <td>214.0</td>\n",
       "      <td>0</td>\n",
       "      <td>0</td>\n",
       "      <td>750</td>\n",
       "      <td>237</td>\n",
       "      <td>NaN</td>\n",
       "      <td>NaN</td>\n",
       "    </tr>\n",
       "  </tbody>\n",
       "</table>\n",
       "</div>"
      ],
      "text/plain": [
       "  Name_Horizontal  Name_Vertical      X      Y  Theta  Phi  Yield  Modulus  \\\n",
       "0               G             17  184.0  163.5    135   90    829       99   \n",
       "1               G             19  184.0  184.0    180   45    927      199   \n",
       "2               G             20  184.0  193.5    270   45    921      317   \n",
       "3               G             21  184.0  205.0     90   45    821      210   \n",
       "4               G             22  184.0  214.0      0    0    750      237   \n",
       "\n",
       "   Max_Pore  Pore_Volume_Ratio  \n",
       "0       NaN                NaN  \n",
       "1       NaN                NaN  \n",
       "2       NaN                NaN  \n",
       "3       NaN                NaN  \n",
       "4       NaN                NaN  "
      ]
     },
     "execution_count": 3,
     "metadata": {},
     "output_type": "execute_result"
    }
   ],
   "source": [
    "#Import Data\n",
    "os.chdir('E:\\Academics\\Research\\Data\\Experimental data\\Compression_test\\Results\\Machined')\n",
    "Master_Data = pd.read_csv('Data_Machined.csv')\n",
    "Master_Data.head(5)"
   ]
  },
  {
   "cell_type": "code",
   "execution_count": 4,
   "metadata": {
    "collapsed": true
   },
   "outputs": [],
   "source": [
    "# Input and output columns in Dataframe\n",
    "# Input = ['Logx','Logy','Cos_Theta','Sin_Theta','Cos_Phi','Sin_Phi']\n",
    "Input = ['X','Y','Theta','Phi']\n",
    "Properties = ['Yield','Modulus']\n",
    "Output = Properties[1]"
   ]
  },
  {
   "cell_type": "code",
   "execution_count": 5,
   "metadata": {
    "collapsed": false
   },
   "outputs": [],
   "source": [
    "X = Master_Data[Input]\n",
    "y = Master_Data[Output]"
   ]
  },
  {
   "cell_type": "code",
   "execution_count": 6,
   "metadata": {
    "collapsed": false
   },
   "outputs": [
    {
     "name": "stderr",
     "output_type": "stream",
     "text": [
      "C:\\Users\\senth\\Anaconda2\\lib\\site-packages\\sklearn\\utils\\validation.py:429: DataConversionWarning: Data with input dtype int64 was converted to float64 by the scale function.\n",
      "  warnings.warn(msg, _DataConversionWarning)\n"
     ]
    }
   ],
   "source": [
    "X_sc = pp.scale(X)\n",
    "y_sc = pp.scale(y)"
   ]
  },
  {
   "cell_type": "code",
   "execution_count": 7,
   "metadata": {
    "collapsed": false
   },
   "outputs": [
    {
     "name": "stdout",
     "output_type": "stream",
     "text": [
      "Start the initial hyper parameter searching ...\n",
      "Done\n",
      "\n",
      "Start the hyper parameter learning ...\n",
      "0 -th epoch marginal likelihood 87.178891664\n",
      "50 -th epoch marginal likelihood 73.9771229594\n",
      "100 -th epoch marginal likelihood 65.1749099286\n",
      "150 -th epoch marginal likelihood 59.2445473267\n",
      "200 -th epoch marginal likelihood 55.1353789565\n",
      "250 -th epoch marginal likelihood 52.2162045932\n",
      "300 -th epoch marginal likelihood 50.0961119627\n",
      "350 -th epoch marginal likelihood 48.525219646\n",
      "400 -th epoch marginal likelihood 47.3391803974\n",
      "450 -th epoch marginal likelihood 46.4271424851\n",
      "500 -th epoch marginal likelihood 45.7126743691\n",
      "Done\n",
      "\n"
     ]
    },
    {
     "ename": "NameError",
     "evalue": "name 'y_pred' is not defined",
     "output_type": "error",
     "traceback": [
      "\u001b[1;31m---------------------------------------------------------------------------\u001b[0m",
      "\u001b[1;31mNameError\u001b[0m                                 Traceback (most recent call last)",
      "\u001b[1;32m<ipython-input-7-8940ba451fd7>\u001b[0m in \u001b[0;36m<module>\u001b[1;34m()\u001b[0m\n\u001b[0;32m     30\u001b[0m \u001b[1;33m\u001b[0m\u001b[0m\n\u001b[0;32m     31\u001b[0m         \u001b[0my_t\u001b[0m \u001b[1;33m=\u001b[0m \u001b[0mnp\u001b[0m\u001b[1;33m.\u001b[0m\u001b[0mconcatenate\u001b[0m\u001b[1;33m(\u001b[0m\u001b[1;33m(\u001b[0m\u001b[0my_t\u001b[0m\u001b[1;33m,\u001b[0m\u001b[0my_test\u001b[0m\u001b[1;33m)\u001b[0m\u001b[1;33m)\u001b[0m\u001b[1;33m\u001b[0m\u001b[0m\n\u001b[1;32m---> 32\u001b[1;33m         \u001b[0my_p\u001b[0m \u001b[1;33m=\u001b[0m \u001b[0mnp\u001b[0m\u001b[1;33m.\u001b[0m\u001b[0mconcatenate\u001b[0m\u001b[1;33m(\u001b[0m\u001b[1;33m(\u001b[0m\u001b[0my_p\u001b[0m\u001b[1;33m,\u001b[0m\u001b[0my_pred\u001b[0m\u001b[1;33m)\u001b[0m\u001b[1;33m)\u001b[0m\u001b[1;33m\u001b[0m\u001b[0m\n\u001b[0m\u001b[0;32m     33\u001b[0m \u001b[1;33m\u001b[0m\u001b[0m\n\u001b[0;32m     34\u001b[0m         \u001b[0mmae\u001b[0m\u001b[1;33m.\u001b[0m\u001b[0mappend\u001b[0m\u001b[1;33m(\u001b[0m\u001b[0mmean_absolute_error\u001b[0m\u001b[1;33m(\u001b[0m\u001b[0my_test\u001b[0m\u001b[1;33m,\u001b[0m\u001b[0my_pred\u001b[0m\u001b[1;33m)\u001b[0m\u001b[1;33m)\u001b[0m\u001b[1;33m\u001b[0m\u001b[0m\n",
      "\u001b[1;31mNameError\u001b[0m: name 'y_pred' is not defined"
     ]
    }
   ],
   "source": [
    "#Split train and test data\n",
    "\n",
    "y_p = []\n",
    "y_t = []\n",
    "mae = []\n",
    "\n",
    "kf = KFold(n_splits=5)\n",
    "\n",
    "for train, test in kf.split(X_sc, y_sc):\n",
    "        X_train = X_sc[train]\n",
    "        y_train = y_sc[train]\n",
    "        X_test = X_sc[test]\n",
    "        y_test = y_sc[test]\n",
    "       \n",
    "        # Fit Combo Model\n",
    "        cov = combo.gp.cov.gauss(X_train.shape[1], ard = False)\n",
    "        mean = combo.gp.mean.zero()\n",
    "        lik = combo.gp.lik.gauss()\n",
    "        gp = combo.gp.model(lik = lik,mean = mean, cov = cov)\n",
    "        config = combo.misc.set_config()\n",
    "        np.random.seed(1000)\n",
    "        index = np.random.permutation(xrange(X_train.shape[0]))\n",
    "        train_X = X_train[index,:]\n",
    "        train_t = y_train[index]\n",
    "        model = gp.fit(train_X, train_t, config)\n",
    "        gp.prepare(train_X, train_t)\n",
    "\n",
    "        #Predict using combo model\n",
    "        y_pred = gp.get_post_fmean(train_X, X_test)\n",
    "        \n",
    "        y_t = np.concatenate((y_t,y_test))\n",
    "        y_p = np.concatenate((y_p,y_pred))\n",
    "        \n",
    "        mae.append(mean_absolute_error(y_test,y_pred))\n"
   ]
  },
  {
   "cell_type": "code",
   "execution_count": null,
   "metadata": {
    "collapsed": true
   },
   "outputs": [],
   "source": [
    "min_val = Parsed_Data[Output].min()\n",
    "max_val = Parsed_Data[Output].max()\n",
    "ran = max_val - min_val"
   ]
  },
  {
   "cell_type": "code",
   "execution_count": null,
   "metadata": {
    "collapsed": true
   },
   "outputs": [],
   "source": [
    "y_t = y_t*ran +min_val\n",
    "y_p = y_p*ran+min_val"
   ]
  },
  {
   "cell_type": "code",
   "execution_count": null,
   "metadata": {
    "collapsed": true
   },
   "outputs": [],
   "source": [
    "plt.plot(y_t, y_p,'b.')\n",
    "plt.plot(y_t,y_t,'k--')\n",
    "plt.xlabel('Actual Young\\'s Modulus (GPa)',size = 15)\n",
    "plt.ylabel('Predicted Young\\'s Modulus (Gpa)', size = 15)\n",
    "plt.title('Random Forest Regression')\n",
    "plt.show()"
   ]
  },
  {
   "cell_type": "code",
   "execution_count": null,
   "metadata": {
    "collapsed": true
   },
   "outputs": [],
   "source": [
    "mae = np.asarray(mae)"
   ]
  },
  {
   "cell_type": "code",
   "execution_count": null,
   "metadata": {
    "collapsed": true
   },
   "outputs": [],
   "source": [
    "mae.mean()*ran"
   ]
  }
 ],
 "metadata": {
  "kernelspec": {
   "display_name": "Python 2",
   "language": "python",
   "name": "python2"
  },
  "language_info": {
   "codemirror_mode": {
    "name": "ipython",
    "version": 2
   },
   "file_extension": ".py",
   "mimetype": "text/x-python",
   "name": "python",
   "nbconvert_exporter": "python",
   "pygments_lexer": "ipython2",
   "version": "2.7.13"
  }
 },
 "nbformat": 4,
 "nbformat_minor": 0
}
