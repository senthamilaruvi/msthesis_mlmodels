{
 "cells": [
  {
   "cell_type": "code",
   "execution_count": 16,
   "metadata": {
    "collapsed": true
   },
   "outputs": [],
   "source": [
    "%matplotlib inline"
   ]
  },
  {
   "cell_type": "code",
   "execution_count": 17,
   "metadata": {
    "collapsed": true
   },
   "outputs": [],
   "source": [
    "import os\n",
    "import pandas as pd\n",
    "import numpy as np\n",
    "import matplotlib.pyplot as plt\n",
    "import combo\n",
    "from sklearn.model_selection import train_test_split\n",
    "from sklearn.model_selection import cross_val_score\n",
    "from sklearn.metrics import r2_score\n",
    "from sklearn.metrics import mean_squared_error\n",
    "from sklearn import preprocessing as pp"
   ]
  },
  {
   "cell_type": "code",
   "execution_count": 18,
   "metadata": {
    "collapsed": false
   },
   "outputs": [
    {
     "data": {
      "text/html": [
       "<div>\n",
       "<table border=\"1\" class=\"dataframe\">\n",
       "  <thead>\n",
       "    <tr style=\"text-align: right;\">\n",
       "      <th></th>\n",
       "      <th>X</th>\n",
       "      <th>Y</th>\n",
       "      <th>Theta</th>\n",
       "      <th>Cos_Theta</th>\n",
       "      <th>Sin_Theta</th>\n",
       "      <th>Z</th>\n",
       "    </tr>\n",
       "  </thead>\n",
       "  <tbody>\n",
       "    <tr>\n",
       "      <th>0</th>\n",
       "      <td>1</td>\n",
       "      <td>2</td>\n",
       "      <td>0</td>\n",
       "      <td>1.000000</td>\n",
       "      <td>0.000000</td>\n",
       "      <td>1.000000</td>\n",
       "    </tr>\n",
       "    <tr>\n",
       "      <th>1</th>\n",
       "      <td>2</td>\n",
       "      <td>4</td>\n",
       "      <td>45</td>\n",
       "      <td>0.525322</td>\n",
       "      <td>0.850904</td>\n",
       "      <td>15.715744</td>\n",
       "    </tr>\n",
       "    <tr>\n",
       "      <th>2</th>\n",
       "      <td>3</td>\n",
       "      <td>6</td>\n",
       "      <td>90</td>\n",
       "      <td>-0.448074</td>\n",
       "      <td>0.893997</td>\n",
       "      <td>28.151217</td>\n",
       "    </tr>\n",
       "    <tr>\n",
       "      <th>3</th>\n",
       "      <td>4</td>\n",
       "      <td>8</td>\n",
       "      <td>180</td>\n",
       "      <td>-0.598460</td>\n",
       "      <td>-0.801153</td>\n",
       "      <td>-60.849130</td>\n",
       "    </tr>\n",
       "    <tr>\n",
       "      <th>4</th>\n",
       "      <td>5</td>\n",
       "      <td>10</td>\n",
       "      <td>270</td>\n",
       "      <td>0.984382</td>\n",
       "      <td>-0.176046</td>\n",
       "      <td>7.004954</td>\n",
       "    </tr>\n",
       "  </tbody>\n",
       "</table>\n",
       "</div>"
      ],
      "text/plain": [
       "   X   Y  Theta  Cos_Theta  Sin_Theta          Z\n",
       "0  1   2      0   1.000000   0.000000   1.000000\n",
       "1  2   4     45   0.525322   0.850904  15.715744\n",
       "2  3   6     90  -0.448074   0.893997  28.151217\n",
       "3  4   8    180  -0.598460  -0.801153 -60.849130\n",
       "4  5  10    270   0.984382  -0.176046   7.004954"
      ]
     },
     "execution_count": 18,
     "metadata": {},
     "output_type": "execute_result"
    }
   ],
   "source": [
    "#Import Data\n",
    "os.chdir('C:\\Users\\senth\\Desktop\\Files_Desktop_access')\n",
    "Master_Data = pd.read_csv('Dummy_Data.csv')\n",
    "Master_Data.head(5)"
   ]
  },
  {
   "cell_type": "code",
   "execution_count": 19,
   "metadata": {
    "collapsed": true
   },
   "outputs": [],
   "source": [
    "# Input and output columns in Dataframe\n",
    "Input = ['X','Y','Theta']\n",
    "\n",
    "Output = 'Z'"
   ]
  },
  {
   "cell_type": "code",
   "execution_count": 20,
   "metadata": {
    "collapsed": false
   },
   "outputs": [],
   "source": [
    "# Name Input and target values\n",
    "X = Master_Data[Input].values\n",
    "y = Master_Data[Output].values"
   ]
  },
  {
   "cell_type": "code",
   "execution_count": 21,
   "metadata": {
    "collapsed": false
   },
   "outputs": [
    {
     "name": "stderr",
     "output_type": "stream",
     "text": [
      "C:\\Users\\senth\\Anaconda2\\lib\\site-packages\\sklearn\\utils\\validation.py:429: DataConversionWarning: Data with input dtype int64 was converted to float64 by the scale function.\n",
      "  warnings.warn(msg, _DataConversionWarning)\n"
     ]
    }
   ],
   "source": [
    "X_Sc = pp.scale(X)\n",
    "y_Sc = pp.scale(y)"
   ]
  },
  {
   "cell_type": "code",
   "execution_count": 22,
   "metadata": {
    "collapsed": false
   },
   "outputs": [
    {
     "name": "stdout",
     "output_type": "stream",
     "text": [
      "Start the initial hyper parameter searching ...\n",
      "Done\n",
      "\n",
      "Start the hyper parameter learning ...\n",
      "0 -th epoch marginal likelihood 23.5952574187\n",
      "50 -th epoch marginal likelihood 23.2854590977\n",
      "100 -th epoch marginal likelihood 23.2424604487\n",
      "150 -th epoch marginal likelihood 23.2355103741\n",
      "200 -th epoch marginal likelihood 23.2307091828\n",
      "250 -th epoch marginal likelihood 23.2267137906\n",
      "300 -th epoch marginal likelihood 23.2233946292\n",
      "350 -th epoch marginal likelihood 23.2206251613\n",
      "400 -th epoch marginal likelihood 23.2182891555\n",
      "450 -th epoch marginal likelihood 23.2162907464\n",
      "500 -th epoch marginal likelihood 23.2145564136\n",
      "Done\n",
      "\n"
     ]
    }
   ],
   "source": [
    "#Split train and test data\n",
    "\n",
    "X_train, X_test, y_train, y_test = train_test_split(X_Sc, y_Sc, test_size=0.4, random_state=3)\n",
    "\n",
    "# Fit Combo Model\n",
    "cov = combo.gp.cov.gauss(X_train.shape[1], ard = False)\n",
    "mean = combo.gp.mean.zero()\n",
    "lik = combo.gp.lik.gauss()\n",
    "gp = combo.gp.model(lik = lik,mean = mean, cov = cov)\n",
    "config = combo.misc.set_config()\n",
    "np.random.seed(1000)\n",
    "index = np.random.permutation(xrange(X_train.shape[0]))\n",
    "train_X = X_train[index,:]\n",
    "train_t = y_train[index]\n",
    "model = gp.fit(train_X, train_t, config)\n",
    "gp.prepare(train_X, train_t)\n",
    "\n",
    "#Predict using combo model\n",
    "y_predicted = gp.get_post_fmean(train_X, X_test)\n"
   ]
  },
  {
   "cell_type": "code",
   "execution_count": 23,
   "metadata": {
    "collapsed": false
   },
   "outputs": [
    {
     "data": {
      "text/plain": [
       "[<matplotlib.lines.Line2D at 0xc8c7c50>]"
      ]
     },
     "execution_count": 23,
     "metadata": {},
     "output_type": "execute_result"
    },
    {
     "data": {
      "image/png": "[encoded data removed]",
      "text/plain": [
       "<matplotlib.figure.Figure at 0xc6e20b8>"
      ]
     },
     "metadata": {},
     "output_type": "display_data"
    }
   ],
   "source": [
    "fig = plt.figure(figsize=(16,9))\n",
    "ax = fig.add_subplot(111)\n",
    "ax.plot(y_test,y_predicted,'.')\n",
    "xlim = ax.get_xlim()\n",
    "ylim = ax.get_ylim()\n",
    "ax.plot(xlim, ylim, 'k--')"
   ]
  },
  {
   "cell_type": "code",
   "execution_count": 24,
   "metadata": {
    "collapsed": false
   },
   "outputs": [
    {
     "data": {
      "text/plain": [
       "0.75038970904913493"
      ]
     },
     "execution_count": 24,
     "metadata": {},
     "output_type": "execute_result"
    }
   ],
   "source": [
    "R2 = r2_score(y_test,y_predicted)\n",
    "R2"
   ]
  },
  {
   "cell_type": "code",
   "execution_count": 25,
   "metadata": {
    "collapsed": false
   },
   "outputs": [
    {
     "data": {
      "text/plain": [
       "array([-0.19870274,  0.01510049, -1.07614709,  0.84899403,  0.44126065,\n",
       "        0.0772613 , -0.04037448,  1.6180958 , -0.67713499,  1.96280229,\n",
       "       -0.18026569, -1.59607195, -2.99865994, -0.19316382])"
      ]
     },
     "execution_count": 25,
     "metadata": {},
     "output_type": "execute_result"
    }
   ],
   "source": [
    "y_test"
   ]
  },
  {
   "cell_type": "code",
   "execution_count": 26,
   "metadata": {
    "collapsed": false
   },
   "outputs": [
    {
     "data": {
      "text/plain": [
       "array([-0.11352783,  0.0528524 , -0.25207691,  0.79579838,  0.46143643,\n",
       "        0.53303299,  0.20914907,  1.46461836, -0.25292016,  2.0892567 ,\n",
       "       -0.21653783, -1.25699839, -1.05215008, -0.19760755])"
      ]
     },
     "execution_count": 26,
     "metadata": {},
     "output_type": "execute_result"
    }
   ],
   "source": [
    "y_predicted"
   ]
  },
  {
   "cell_type": "code",
   "execution_count": 27,
   "metadata": {
    "collapsed": true
   },
   "outputs": [],
   "source": [
    "MSE = mean_squared_error(y_test,y_predicted)"
   ]
  },
  {
   "cell_type": "code",
   "execution_count": 28,
   "metadata": {
    "collapsed": false
   },
   "outputs": [
    {
     "data": {
      "text/plain": [
       "0.36326496682007459"
      ]
     },
     "execution_count": 28,
     "metadata": {},
     "output_type": "execute_result"
    }
   ],
   "source": [
    "MSE"
   ]
  },
  {
   "cell_type": "code",
   "execution_count": null,
   "metadata": {
    "collapsed": true
   },
   "outputs": [],
   "source": []
  }
 ],
 "metadata": {
  "kernelspec": {
   "display_name": "Python 2",
   "language": "python",
   "name": "python2"
  },
  "language_info": {
   "codemirror_mode": {
    "name": "ipython",
    "version": 2
   },
   "file_extension": ".py",
   "mimetype": "text/x-python",
   "name": "python",
   "nbconvert_exporter": "python",
   "pygments_lexer": "ipython2",
   "version": "2.7.13"
  }
 },
 "nbformat": 4,
 "nbformat_minor": 0
}
