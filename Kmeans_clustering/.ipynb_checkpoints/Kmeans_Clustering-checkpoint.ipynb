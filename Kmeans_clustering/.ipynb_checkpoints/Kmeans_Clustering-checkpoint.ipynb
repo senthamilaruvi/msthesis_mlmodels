{
 "cells": [
  {
   "cell_type": "code",
   "execution_count": 1,
   "metadata": {
    "collapsed": true
   },
   "outputs": [],
   "source": [
    "%matplotlib inline"
   ]
  },
  {
   "cell_type": "code",
   "execution_count": 2,
   "metadata": {
    "collapsed": false
   },
   "outputs": [],
   "source": [
    "import os\n",
    "import pandas as pd\n",
    "import numpy as np\n",
    "from sklearn.cluster import KMeans\n",
    "import matplotlib.pyplot as plt"
   ]
  },
  {
   "cell_type": "code",
   "execution_count": 3,
   "metadata": {
    "collapsed": false
   },
   "outputs": [
    {
     "data": {
      "text/plain": [
       "['id',\n",
       " 'Name',\n",
       " 'X',\n",
       " 'Y',\n",
       " 'Theta',\n",
       " 'Phi',\n",
       " 'X2',\n",
       " 'Y2',\n",
       " 'XY',\n",
       " 'Cos_Theta',\n",
       " 'Sin_Theta',\n",
       " 'Cos_Phi',\n",
       " 'Sin_Phi',\n",
       " 'Cos2_Theta',\n",
       " 'Cos2_Phi',\n",
       " 'Sin2_Theta',\n",
       " 'Sin2_Phi',\n",
       " 'Porosity_Fraction',\n",
       " 'Max_Pore_Diameter',\n",
       " 'Mean_Pore_Diameter',\n",
       " 'Median_Pore_Diameter',\n",
       " 'Median_Pore_Spacing',\n",
       " 'Yield',\n",
       " 'Modulus',\n",
       " 'Ultimate',\n",
       " 'Ductility']"
      ]
     },
     "execution_count": 3,
     "metadata": {},
     "output_type": "execute_result"
    }
   ],
   "source": [
    "#Import Data\n",
    "os.chdir('E:\\Academics\\Research\\Data\\Experimental data\\Compression_test\\Analysis\\Input\\As_Built')\n",
    "Master_Data = pd.read_csv('Input_Data.csv').dropna()\n",
    "list(Master_Data)"
   ]
  },
  {
   "cell_type": "code",
   "execution_count": 4,
   "metadata": {
    "collapsed": true
   },
   "outputs": [],
   "source": [
    "# Input and output columns in Dataframe\n",
    "# Input = ['X','Y','X2','Y2','XY','Cos_Theta','Cos_Phi','Cos2_Theta','Cos2_Phi','Sin2_Theta','Sin2_Phi','Max_Pore_Diameter']\n",
    "Input = ['X','Y','Theta','Phi']\n",
    "Properties = ['Yield','Modulus','Ultimate','Ductility']\n",
    "Output = Properties[0]"
   ]
  },
  {
   "cell_type": "code",
   "execution_count": 5,
   "metadata": {
    "collapsed": false
   },
   "outputs": [],
   "source": [
    "# Extracting required data from master data\n",
    "full = []\n",
    "full.extend(Input)\n",
    "full.extend(Properties)\n",
    "Parsed_Data = Master_Data[full]\n"
   ]
  },
  {
   "cell_type": "code",
   "execution_count": 6,
   "metadata": {
    "collapsed": true
   },
   "outputs": [],
   "source": [
    "#Normalizing the data\n",
    "Normalized_Data = (Parsed_Data-Parsed_Data.min())/(Parsed_Data.max()-Parsed_Data.min())\n",
    "Normalized_Data = Normalized_Data.dropna()"
   ]
  },
  {
   "cell_type": "code",
   "execution_count": 7,
   "metadata": {
    "collapsed": true
   },
   "outputs": [],
   "source": [
    "# Name Input and target values\n",
    "X = Normalized_Data[Input].values\n",
    "y = Normalized_Data[Output].values"
   ]
  },
  {
   "cell_type": "code",
   "execution_count": 8,
   "metadata": {
    "collapsed": false
   },
   "outputs": [],
   "source": [
    "Data = np.column_stack((X,y))"
   ]
  },
  {
   "cell_type": "code",
   "execution_count": 9,
   "metadata": {
    "collapsed": false
   },
   "outputs": [
    {
     "data": {
      "image/png": "[encoded data removed]",
      "text/plain": [
       "<matplotlib.figure.Figure at 0xb03beb8>"
      ]
     },
     "metadata": {},
     "output_type": "display_data"
    }
   ],
   "source": [
    "wcss = []\n",
    "for i in range(1,20):\n",
    "    kmeans = KMeans(n_clusters = i, init = 'k-means++', random_state = 0)\n",
    "    kmeans.fit(Data)\n",
    "    wcss.append(kmeans.inertia_)\n",
    "plt.plot(range(1, 20), wcss)\n",
    "plt.title('The Elbow Method')\n",
    "plt.xlabel('Number of clusters')\n",
    "plt.ylabel('WCSS')\n",
    "plt.show()\n"
   ]
  },
  {
   "cell_type": "code",
   "execution_count": 10,
   "metadata": {
    "collapsed": true
   },
   "outputs": [],
   "source": [
    "# Fitting K-Means to the dataset\n",
    "kmeans = KMeans(n_clusters = 12, init = 'k-means++', random_state = 0)\n",
    "y_kmeans = kmeans.fit_predict(Data)"
   ]
  },
  {
   "cell_type": "code",
   "execution_count": 11,
   "metadata": {
    "collapsed": false
   },
   "outputs": [
    {
     "data": {
      "text/plain": [
       "array([ 5,  2,  4,  6,  7,  5,  2,  4,  3,  2,  4, 10,  5,  4,  2,  7,  3,\n",
       "        2,  5,  6, 11,  7, 10,  5,  2,  4,  3,  2,  4,  5,  7,  3,  4, 10,\n",
       "       11, 11,  5,  5,  4, 11,  3,  4,  7,  7,  5,  6, 11,  7,  7,  6,  4,\n",
       "        3,  2,  4,  0,  7,  7,  6,  3,  6,  7,  7,  3,  2,  4,  0,  0, 11,\n",
       "       11,  8,  7,  7,  4,  4,  4,  4,  7,  3, 10,  4,  4,  0,  6,  7,  6,\n",
       "        9,  7,  0,  8,  8,  8,  7,  0,  0,  1,  8,  1,  0,  6,  8,  1,  9,\n",
       "        8,  1,  9,  1,  0,  6,  8,  9,  1,  9,  0,  8,  8,  8,  8,  1,  9,\n",
       "        1,  8,  1,  8,  9,  1])"
      ]
     },
     "execution_count": 11,
     "metadata": {},
     "output_type": "execute_result"
    }
   ],
   "source": [
    "y_kmeans"
   ]
  },
  {
   "cell_type": "code",
   "execution_count": 12,
   "metadata": {
    "collapsed": false
   },
   "outputs": [
    {
     "name": "stderr",
     "output_type": "stream",
     "text": [
      "C:\\Users\\senth\\Anaconda2\\lib\\site-packages\\ipykernel\\__main__.py:1: SettingWithCopyWarning: \n",
      "A value is trying to be set on a copy of a slice from a DataFrame.\n",
      "Try using .loc[row_indexer,col_indexer] = value instead\n",
      "\n",
      "See the caveats in the documentation: http://pandas.pydata.org/pandas-docs/stable/indexing.html#indexing-view-versus-copy\n",
      "  if __name__ == '__main__':\n"
     ]
    }
   ],
   "source": [
    "Parsed_Data['Cluster'] = y_kmeans"
   ]
  },
  {
   "cell_type": "code",
   "execution_count": 36,
   "metadata": {
    "collapsed": false
   },
   "outputs": [],
   "source": [
    "Analysis = Parsed_Data[Parsed_Data['Cluster'] ==4]"
   ]
  },
  {
   "cell_type": "code",
   "execution_count": 37,
   "metadata": {
    "collapsed": false
   },
   "outputs": [
    {
     "data": {
      "text/plain": [
       "619.3333333333334"
      ]
     },
     "execution_count": 37,
     "metadata": {},
     "output_type": "execute_result"
    }
   ],
   "source": [
    "Analysis['Yield'].mean()"
   ]
  },
  {
   "cell_type": "code",
   "execution_count": 38,
   "metadata": {
    "collapsed": false
   },
   "outputs": [
    {
     "data": {
      "text/plain": [
       "103.46184292373914"
      ]
     },
     "execution_count": 38,
     "metadata": {},
     "output_type": "execute_result"
    }
   ],
   "source": [
    "Analysis['Yield'].std()"
   ]
  },
  {
   "cell_type": "code",
   "execution_count": 39,
   "metadata": {
    "collapsed": false
   },
   "outputs": [
    {
     "data": {
      "text/html": [
       "<div>\n",
       "<table border=\"1\" class=\"dataframe\">\n",
       "  <thead>\n",
       "    <tr style=\"text-align: right;\">\n",
       "      <th></th>\n",
       "      <th>X</th>\n",
       "      <th>Y</th>\n",
       "      <th>Theta</th>\n",
       "      <th>Phi</th>\n",
       "      <th>Yield</th>\n",
       "      <th>Modulus</th>\n",
       "      <th>Ultimate</th>\n",
       "      <th>Ductility</th>\n",
       "      <th>Cluster</th>\n",
       "    </tr>\n",
       "  </thead>\n",
       "  <tbody>\n",
       "    <tr>\n",
       "      <th>22</th>\n",
       "      <td>242.5</td>\n",
       "      <td>224.5</td>\n",
       "      <td>90</td>\n",
       "      <td>90</td>\n",
       "      <td>745.0</td>\n",
       "      <td>122.0</td>\n",
       "      <td>1363.0</td>\n",
       "      <td>19.0</td>\n",
       "      <td>4</td>\n",
       "    </tr>\n",
       "    <tr>\n",
       "      <th>38</th>\n",
       "      <td>233.5</td>\n",
       "      <td>133.5</td>\n",
       "      <td>90</td>\n",
       "      <td>90</td>\n",
       "      <td>729.0</td>\n",
       "      <td>126.0</td>\n",
       "      <td>1135.0</td>\n",
       "      <td>34.0</td>\n",
       "      <td>4</td>\n",
       "    </tr>\n",
       "    <tr>\n",
       "      <th>47</th>\n",
       "      <td>233.5</td>\n",
       "      <td>224.5</td>\n",
       "      <td>90</td>\n",
       "      <td>90</td>\n",
       "      <td>419.0</td>\n",
       "      <td>141.0</td>\n",
       "      <td>771.0</td>\n",
       "      <td>29.0</td>\n",
       "      <td>4</td>\n",
       "    </tr>\n",
       "    <tr>\n",
       "      <th>63</th>\n",
       "      <td>224.5</td>\n",
       "      <td>133.5</td>\n",
       "      <td>90</td>\n",
       "      <td>90</td>\n",
       "      <td>777.0</td>\n",
       "      <td>298.0</td>\n",
       "      <td>1406.0</td>\n",
       "      <td>11.0</td>\n",
       "      <td>4</td>\n",
       "    </tr>\n",
       "    <tr>\n",
       "      <th>113</th>\n",
       "      <td>204.0</td>\n",
       "      <td>133.5</td>\n",
       "      <td>90</td>\n",
       "      <td>90</td>\n",
       "      <td>567.0</td>\n",
       "      <td>69.0</td>\n",
       "      <td>1162.0</td>\n",
       "      <td>15.0</td>\n",
       "      <td>4</td>\n",
       "    </tr>\n",
       "    <tr>\n",
       "      <th>122</th>\n",
       "      <td>204.0</td>\n",
       "      <td>224.5</td>\n",
       "      <td>90</td>\n",
       "      <td>90</td>\n",
       "      <td>658.0</td>\n",
       "      <td>152.0</td>\n",
       "      <td>928.0</td>\n",
       "      <td>1.0</td>\n",
       "      <td>4</td>\n",
       "    </tr>\n",
       "    <tr>\n",
       "      <th>138</th>\n",
       "      <td>194.0</td>\n",
       "      <td>133.5</td>\n",
       "      <td>90</td>\n",
       "      <td>90</td>\n",
       "      <td>591.0</td>\n",
       "      <td>79.0</td>\n",
       "      <td>959.0</td>\n",
       "      <td>13.0</td>\n",
       "      <td>4</td>\n",
       "    </tr>\n",
       "    <tr>\n",
       "      <th>163</th>\n",
       "      <td>184.0</td>\n",
       "      <td>133.5</td>\n",
       "      <td>90</td>\n",
       "      <td>90</td>\n",
       "      <td>592.0</td>\n",
       "      <td>62.0</td>\n",
       "      <td>1066.0</td>\n",
       "      <td>13.0</td>\n",
       "      <td>4</td>\n",
       "    </tr>\n",
       "    <tr>\n",
       "      <th>197</th>\n",
       "      <td>174.0</td>\n",
       "      <td>224.5</td>\n",
       "      <td>90</td>\n",
       "      <td>90</td>\n",
       "      <td>619.0</td>\n",
       "      <td>135.0</td>\n",
       "      <td>1396.0</td>\n",
       "      <td>20.0</td>\n",
       "      <td>4</td>\n",
       "    </tr>\n",
       "    <tr>\n",
       "      <th>263</th>\n",
       "      <td>143.5</td>\n",
       "      <td>133.5</td>\n",
       "      <td>90</td>\n",
       "      <td>90</td>\n",
       "      <td>390.0</td>\n",
       "      <td>129.0</td>\n",
       "      <td>577.0</td>\n",
       "      <td>11.0</td>\n",
       "      <td>4</td>\n",
       "    </tr>\n",
       "    <tr>\n",
       "      <th>272</th>\n",
       "      <td>143.5</td>\n",
       "      <td>224.5</td>\n",
       "      <td>90</td>\n",
       "      <td>90</td>\n",
       "      <td>690.0</td>\n",
       "      <td>76.0</td>\n",
       "      <td>1350.0</td>\n",
       "      <td>40.0</td>\n",
       "      <td>4</td>\n",
       "    </tr>\n",
       "    <tr>\n",
       "      <th>322</th>\n",
       "      <td>123.0</td>\n",
       "      <td>224.5</td>\n",
       "      <td>90</td>\n",
       "      <td>90</td>\n",
       "      <td>568.0</td>\n",
       "      <td>251.0</td>\n",
       "      <td>1000.0</td>\n",
       "      <td>11.0</td>\n",
       "      <td>4</td>\n",
       "    </tr>\n",
       "    <tr>\n",
       "      <th>338</th>\n",
       "      <td>113.0</td>\n",
       "      <td>133.5</td>\n",
       "      <td>90</td>\n",
       "      <td>90</td>\n",
       "      <td>700.0</td>\n",
       "      <td>141.0</td>\n",
       "      <td>1245.0</td>\n",
       "      <td>15.0</td>\n",
       "      <td>4</td>\n",
       "    </tr>\n",
       "    <tr>\n",
       "      <th>339</th>\n",
       "      <td>113.0</td>\n",
       "      <td>144.0</td>\n",
       "      <td>45</td>\n",
       "      <td>90</td>\n",
       "      <td>619.0</td>\n",
       "      <td>218.0</td>\n",
       "      <td>1080.0</td>\n",
       "      <td>17.0</td>\n",
       "      <td>4</td>\n",
       "    </tr>\n",
       "    <tr>\n",
       "      <th>340</th>\n",
       "      <td>113.0</td>\n",
       "      <td>154.0</td>\n",
       "      <td>0</td>\n",
       "      <td>90</td>\n",
       "      <td>594.0</td>\n",
       "      <td>262.0</td>\n",
       "      <td>1366.0</td>\n",
       "      <td>24.0</td>\n",
       "      <td>4</td>\n",
       "    </tr>\n",
       "    <tr>\n",
       "      <th>341</th>\n",
       "      <td>113.0</td>\n",
       "      <td>163.5</td>\n",
       "      <td>135</td>\n",
       "      <td>90</td>\n",
       "      <td>566.0</td>\n",
       "      <td>80.0</td>\n",
       "      <td>1313.0</td>\n",
       "      <td>20.0</td>\n",
       "      <td>4</td>\n",
       "    </tr>\n",
       "    <tr>\n",
       "      <th>347</th>\n",
       "      <td>113.0</td>\n",
       "      <td>224.5</td>\n",
       "      <td>90</td>\n",
       "      <td>90</td>\n",
       "      <td>731.0</td>\n",
       "      <td>168.0</td>\n",
       "      <td>1092.0</td>\n",
       "      <td>9.0</td>\n",
       "      <td>4</td>\n",
       "    </tr>\n",
       "    <tr>\n",
       "      <th>348</th>\n",
       "      <td>113.0</td>\n",
       "      <td>234.0</td>\n",
       "      <td>45</td>\n",
       "      <td>90</td>\n",
       "      <td>593.0</td>\n",
       "      <td>139.0</td>\n",
       "      <td>1218.0</td>\n",
       "      <td>21.0</td>\n",
       "      <td>4</td>\n",
       "    </tr>\n",
       "  </tbody>\n",
       "</table>\n",
       "</div>"
      ],
      "text/plain": [
       "         X      Y  Theta  Phi  Yield  Modulus  Ultimate  Ductility  Cluster\n",
       "22   242.5  224.5     90   90  745.0    122.0    1363.0       19.0        4\n",
       "38   233.5  133.5     90   90  729.0    126.0    1135.0       34.0        4\n",
       "47   233.5  224.5     90   90  419.0    141.0     771.0       29.0        4\n",
       "63   224.5  133.5     90   90  777.0    298.0    1406.0       11.0        4\n",
       "113  204.0  133.5     90   90  567.0     69.0    1162.0       15.0        4\n",
       "122  204.0  224.5     90   90  658.0    152.0     928.0        1.0        4\n",
       "138  194.0  133.5     90   90  591.0     79.0     959.0       13.0        4\n",
       "163  184.0  133.5     90   90  592.0     62.0    1066.0       13.0        4\n",
       "197  174.0  224.5     90   90  619.0    135.0    1396.0       20.0        4\n",
       "263  143.5  133.5     90   90  390.0    129.0     577.0       11.0        4\n",
       "272  143.5  224.5     90   90  690.0     76.0    1350.0       40.0        4\n",
       "322  123.0  224.5     90   90  568.0    251.0    1000.0       11.0        4\n",
       "338  113.0  133.5     90   90  700.0    141.0    1245.0       15.0        4\n",
       "339  113.0  144.0     45   90  619.0    218.0    1080.0       17.0        4\n",
       "340  113.0  154.0      0   90  594.0    262.0    1366.0       24.0        4\n",
       "341  113.0  163.5    135   90  566.0     80.0    1313.0       20.0        4\n",
       "347  113.0  224.5     90   90  731.0    168.0    1092.0        9.0        4\n",
       "348  113.0  234.0     45   90  593.0    139.0    1218.0       21.0        4"
      ]
     },
     "execution_count": 39,
     "metadata": {},
     "output_type": "execute_result"
    }
   ],
   "source": [
    "Analysis"
   ]
  },
  {
   "cell_type": "code",
   "execution_count": 17,
   "metadata": {
    "collapsed": false
   },
   "outputs": [
    {
     "data": {
      "image/png": "[encoded data removed]",
      "text/plain": [
       "<matplotlib.figure.Figure at 0xb1b1d68>"
      ]
     },
     "metadata": {},
     "output_type": "display_data"
    }
   ],
   "source": [
    "from matplotlib import pyplot\n",
    "from mpl_toolkits.mplot3d import Axes3D\n",
    "\n",
    "\n",
    "\n",
    "fig = pyplot.figure()\n",
    "ax = Axes3D(fig)\n",
    "\n",
    "\n",
    "ax.scatter(Parsed_Data['X'], Parsed_Data['Y'],Parsed_Data['Ductility'] )\n",
    "pyplot.show()"
   ]
  },
  {
   "cell_type": "code",
   "execution_count": 18,
   "metadata": {
    "collapsed": false
   },
   "outputs": [
    {
     "data": {
      "text/plain": [
       "[<matplotlib.lines.Line2D at 0xb1b1780>]"
      ]
     },
     "execution_count": 18,
     "metadata": {},
     "output_type": "execute_result"
    },
    {
     "data": {
      "image/png": "[encoded data removed]",
      "text/plain": [
       "<matplotlib.figure.Figure at 0xb489c18>"
      ]
     },
     "metadata": {},
     "output_type": "display_data"
    }
   ],
   "source": [
    "plt.plot(Analysis['X'],Analysis['Modulus'],'.')"
   ]
  },
  {
   "cell_type": "code",
   "execution_count": 19,
   "metadata": {
    "collapsed": true
   },
   "outputs": [],
   "source": [
    "plt.show()"
   ]
  },
  {
   "cell_type": "code",
   "execution_count": null,
   "metadata": {
    "collapsed": true
   },
   "outputs": [],
   "source": []
  }
 ],
 "metadata": {
  "kernelspec": {
   "display_name": "Python 2",
   "language": "python",
   "name": "python2"
  },
  "language_info": {
   "codemirror_mode": {
    "name": "ipython",
    "version": 2
   },
   "file_extension": ".py",
   "mimetype": "text/x-python",
   "name": "python",
   "nbconvert_exporter": "python",
   "pygments_lexer": "ipython2",
   "version": "2.7.13"
  }
 },
 "nbformat": 4,
 "nbformat_minor": 0
}
